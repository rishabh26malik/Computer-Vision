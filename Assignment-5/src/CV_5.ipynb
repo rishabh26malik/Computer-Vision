{
  "nbformat": 4,
  "nbformat_minor": 0,
  "metadata": {
    "colab": {
      "name": "CV-5-ULTIMATE_FINAL.ipynb",
      "provenance": [],
      "collapsed_sections": []
    },
    "kernelspec": {
      "name": "python3",
      "display_name": "Python 3"
    },
    "language_info": {
      "name": "python"
    },
    "accelerator": "GPU"
  },
  "cells": [
    {
      "cell_type": "code",
      "metadata": {
        "id": "dOML4aLKPYKr"
      },
      "source": [
        "# Imports\n",
        "import torch\n",
        "import torchvision # torch package for vision related things\n",
        "import torch.nn.functional as F  # Parameterless functions, like (some) activation functions\n",
        "import torchvision.datasets as datasets  # Standard datasets\n",
        "import torchvision.transforms as transforms  # Transformations we can perform on our dataset for augmentation\n",
        "from torch import optim  # For optimizers like SGD, Adam, etc.\n",
        "from torch import nn  # All neural network modules\n",
        "from torch.utils.data import DataLoader, random_split, TensorDataset   # Gives easier dataset managment by creating mini batches etc.\n",
        "from tqdm import tqdm  # For nice progress bar!\n",
        "import timeit\n",
        "import numpy as np\n",
        "import matplotlib.pyplot as plt\n",
        "import random\n",
        "from sklearn.metrics import confusion_matrix\n",
        "import os\n",
        "import pandas as pd\n",
        "from torch.utils.data import TensorDataset, Dataset\n",
        "import glob\n",
        "import cv2\n",
        "from sklearn.model_selection import train_test_split"
      ],
      "execution_count": 1,
      "outputs": []
    },
    {
      "cell_type": "code",
      "metadata": {
        "colab": {
          "base_uri": "https://localhost:8080/"
        },
        "id": "mEidpHMWPg6X",
        "outputId": "f4255e4e-9c25-4275-ea7c-541a92b90546"
      },
      "source": [
        "!pip install aicrowd-cli"
      ],
      "execution_count": 2,
      "outputs": [
        {
          "output_type": "stream",
          "text": [
            "Requirement already satisfied: aicrowd-cli in /usr/local/lib/python3.7/dist-packages (0.1.2)\n",
            "Requirement already satisfied: gitpython<4,>=3.1.12 in /usr/local/lib/python3.7/dist-packages (from aicrowd-cli) (3.1.14)\n",
            "Requirement already satisfied: tqdm<5,>=4.56.0 in /usr/local/lib/python3.7/dist-packages (from aicrowd-cli) (4.60.0)\n",
            "Requirement already satisfied: requests<3,>=2.25.1 in /usr/local/lib/python3.7/dist-packages (from aicrowd-cli) (2.25.1)\n",
            "Requirement already satisfied: requests-toolbelt<1,>=0.9.1 in /usr/local/lib/python3.7/dist-packages (from aicrowd-cli) (0.9.1)\n",
            "Requirement already satisfied: toml<1,>=0.10.2 in /usr/local/lib/python3.7/dist-packages (from aicrowd-cli) (0.10.2)\n",
            "Requirement already satisfied: rich<11,>=10.0.0 in /usr/local/lib/python3.7/dist-packages (from aicrowd-cli) (10.1.0)\n",
            "Requirement already satisfied: click<8,>=7.1.2 in /usr/local/lib/python3.7/dist-packages (from aicrowd-cli) (7.1.2)\n",
            "Requirement already satisfied: gitdb<5,>=4.0.1 in /usr/local/lib/python3.7/dist-packages (from gitpython<4,>=3.1.12->aicrowd-cli) (4.0.7)\n",
            "Requirement already satisfied: idna<3,>=2.5 in /usr/local/lib/python3.7/dist-packages (from requests<3,>=2.25.1->aicrowd-cli) (2.10)\n",
            "Requirement already satisfied: chardet<5,>=3.0.2 in /usr/local/lib/python3.7/dist-packages (from requests<3,>=2.25.1->aicrowd-cli) (3.0.4)\n",
            "Requirement already satisfied: urllib3<1.27,>=1.21.1 in /usr/local/lib/python3.7/dist-packages (from requests<3,>=2.25.1->aicrowd-cli) (1.24.3)\n",
            "Requirement already satisfied: certifi>=2017.4.17 in /usr/local/lib/python3.7/dist-packages (from requests<3,>=2.25.1->aicrowd-cli) (2020.12.5)\n",
            "Requirement already satisfied: typing-extensions<4.0.0,>=3.7.4 in /usr/local/lib/python3.7/dist-packages (from rich<11,>=10.0.0->aicrowd-cli) (3.7.4.3)\n",
            "Requirement already satisfied: commonmark<0.10.0,>=0.9.0 in /usr/local/lib/python3.7/dist-packages (from rich<11,>=10.0.0->aicrowd-cli) (0.9.1)\n",
            "Requirement already satisfied: colorama<0.5.0,>=0.4.0 in /usr/local/lib/python3.7/dist-packages (from rich<11,>=10.0.0->aicrowd-cli) (0.4.4)\n",
            "Requirement already satisfied: pygments<3.0.0,>=2.6.0 in /usr/local/lib/python3.7/dist-packages (from rich<11,>=10.0.0->aicrowd-cli) (2.6.1)\n",
            "Requirement already satisfied: smmap<5,>=3.0.1 in /usr/local/lib/python3.7/dist-packages (from gitdb<5,>=4.0.1->gitpython<4,>=3.1.12->aicrowd-cli) (4.0.0)\n"
          ],
          "name": "stdout"
        }
      ]
    },
    {
      "cell_type": "code",
      "metadata": {
        "colab": {
          "base_uri": "https://localhost:8080/"
        },
        "id": "ljve030SPid0",
        "outputId": "2ee30c79-4bd1-4256-c407-4aed4d06041f"
      },
      "source": [
        "API_KEY = \"fd1aed7204268f0bae2780fb808a4063\" #Please enter your API Key from [https://www.aicrowd.com/participants/me]\n",
        "!aicrowd login --api-key 23c297cee1f3012a28f2e3612de488cc"
      ],
      "execution_count": 3,
      "outputs": [
        {
          "output_type": "stream",
          "text": [
            "\u001b[32mAPI Key valid\u001b[0m\n",
            "\u001b[32mSaved API Key successfully!\u001b[0m\n"
          ],
          "name": "stdout"
        }
      ]
    },
    {
      "cell_type": "code",
      "metadata": {
        "colab": {
          "base_uri": "https://localhost:8080/"
        },
        "id": "R3m6NqzHPk7v",
        "outputId": "d6164bd2-54a8-40a4-fad3-115b952dbc86"
      },
      "source": [
        "!aicrowd dataset download --challenge chunin-exams-food-track-cv-2021"
      ],
      "execution_count": 4,
      "outputs": [
        {
          "output_type": "stream",
          "text": [
            "train_images.zip: 100% 754M/754M [00:09<00:00, 78.2MB/s]\n",
            "test_images.zip: 100% 33.9M/33.9M [00:00<00:00, 62.5MB/s]\n",
            "train.csv: 100% 253k/253k [00:00<00:00, 2.63MB/s]\n",
            "test.csv: 100% 7.27k/7.27k [00:00<00:00, 896kB/s]\n"
          ],
          "name": "stdout"
        }
      ]
    },
    {
      "cell_type": "code",
      "metadata": {
        "id": "dD7KGhPhPl2I"
      },
      "source": [
        "!unzip '/content/test_images.zip'\n",
        "!unzip '/content/train_images.zip'"
      ],
      "execution_count": null,
      "outputs": []
    },
    {
      "cell_type": "markdown",
      "metadata": {
        "id": "ZhFGr41QW9AL"
      },
      "source": [
        "### Class to read custom dataset in pytorch"
      ]
    },
    {
      "cell_type": "code",
      "metadata": {
        "id": "dMBgC6vlaIkz"
      },
      "source": [
        "class MyDataset(Dataset):\n",
        "    def __init__(self,data_list,data_dir = './',transform=None,train=True):\n",
        "        super().__init__()\n",
        "        self.data_list = data_list\n",
        "        self.data_dir = data_dir\n",
        "        self.transform = transform\n",
        "        self.train = train\n",
        "    \n",
        "    def __len__(self):\n",
        "        return self.data_list.shape[0]\n",
        "    \n",
        "    def __getitem__(self,item):\n",
        "        if self.train:\n",
        "          img_name,label = self.data_list.iloc[item]\n",
        "        else:\n",
        "          img_name = self.data_list.iloc[item]['ImageId']\n",
        "        img_path = os.path.join(self.data_dir,img_name)\n",
        "        img = cv2.imread(img_path,1)\n",
        "        img = cv2.resize(img,(256,256))\n",
        "        if self.transform is not None:\n",
        "            img = self.transform(img)\n",
        "        if self.train:\n",
        "          return img, torch.tensor(label)\n",
        "        else:\n",
        "          return img\n",
        "          "
      ],
      "execution_count": 3,
      "outputs": []
    },
    {
      "cell_type": "markdown",
      "metadata": {
        "id": "orWv1QTpXBa5"
      },
      "source": [
        "### Converting string target labels to integer labels"
      ]
    },
    {
      "cell_type": "code",
      "metadata": {
        "colab": {
          "base_uri": "https://localhost:8080/"
        },
        "id": "ZuMOQ_E4a_jD",
        "outputId": "e40ca3b7-a5f5-43d3-8926-ed921c5dd17b"
      },
      "source": [
        "train_label_df = pd.read_csv('train.csv')\n",
        "#train_label_df = train_label_df.sort_values(by=['ImageId'])\n",
        "classes = train_label_df['ClassName'].unique()\n",
        "\n",
        "class2id = {}\n",
        "id = 0\n",
        "for target in classes:\n",
        "  class2id[target] = id\n",
        "  id += 1\n",
        "print(class2id)\n",
        "t = train_label_df[\"ClassName\"].to_numpy()\n",
        "y = np.zeros(9323)\n",
        "i = 0\n",
        "for label in t:\n",
        "  y[i] = class2id[label]\n",
        "  i += 1\n",
        "print(y) "
      ],
      "execution_count": 4,
      "outputs": [
        {
          "output_type": "stream",
          "text": [
            "{'water': 0, 'pizza-margherita-baked': 1, 'broccoli': 2, 'salad-leaf-salad-green': 3, 'egg': 4, 'butter': 5, 'bread-white': 6, 'apple': 7, 'dark-chocolate': 8, 'white-coffee-with-caffeine': 9, 'sweet-pepper': 10, 'mixed-salad-chopped-without-sauce': 11, 'tomato-sauce': 12, 'cucumber': 13, 'cheese': 14, 'pasta-spaghetti': 15, 'rice': 16, 'zucchini': 17, 'salmon': 18, 'mixed-vegetables': 19, 'espresso-with-caffeine': 20, 'banana': 21, 'strawberries': 22, 'mayonnaise': 23, 'almonds': 24, 'bread-wholemeal': 25, 'wine-white': 26, 'hard-cheese': 27, 'ham-raw': 28, 'tomato': 29, 'french-beans': 30, 'mandarine': 31, 'wine-red': 32, 'potatoes-steamed': 33, 'croissant': 34, 'carrot': 35, 'salami': 36, 'boisson-au-glucose-50g': 37, 'biscuits': 38, 'corn': 39, 'leaf-spinach': 40, 'tea-green': 41, 'chips-french-fries': 42, 'parmesan': 43, 'beer': 44, 'bread-french-white-flour': 45, 'coffee-with-caffeine': 46, 'chicken': 47, 'soft-cheese': 48, 'tea': 49, 'avocado': 50, 'bread-sourdough': 51, 'gruyere': 52, 'sauce-savoury': 53, 'honey': 54, 'mixed-nuts': 55, 'jam': 56, 'bread-whole-wheat': 57, 'water-mineral': 58, 'onion': 59, 'pickle': 60}\n",
            "[ 0.  1.  2. ... 35.  2. 13.]\n"
          ],
          "name": "stdout"
        }
      ]
    },
    {
      "cell_type": "code",
      "metadata": {
        "colab": {
          "base_uri": "https://localhost:8080/"
        },
        "id": "Xh9wqWz5dAkD",
        "outputId": "3b9e07d2-1fc7-4265-dc51-41409f07216c"
      },
      "source": [
        "y.shape"
      ],
      "execution_count": 8,
      "outputs": [
        {
          "output_type": "execute_result",
          "data": {
            "text/plain": [
              "(9323,)"
            ]
          },
          "metadata": {
            "tags": []
          },
          "execution_count": 8
        }
      ]
    },
    {
      "cell_type": "markdown",
      "metadata": {
        "id": "YHuXZpdRXGw6"
      },
      "source": [
        "### Updating the csv read with integer labels"
      ]
    },
    {
      "cell_type": "code",
      "metadata": {
        "colab": {
          "base_uri": "https://localhost:8080/",
          "height": 359
        },
        "id": "2e-ZBTBhck1a",
        "outputId": "9d9d9c81-3344-4c3b-9828-234d6f9dc831"
      },
      "source": [
        "train = pd.read_csv('train.csv')\n",
        "train['ClassName'].replace(class2id,inplace=True)\n",
        "train.sample(10)"
      ],
      "execution_count": 5,
      "outputs": [
        {
          "output_type": "execute_result",
          "data": {
            "text/html": [
              "<div>\n",
              "<style scoped>\n",
              "    .dataframe tbody tr th:only-of-type {\n",
              "        vertical-align: middle;\n",
              "    }\n",
              "\n",
              "    .dataframe tbody tr th {\n",
              "        vertical-align: top;\n",
              "    }\n",
              "\n",
              "    .dataframe thead th {\n",
              "        text-align: right;\n",
              "    }\n",
              "</style>\n",
              "<table border=\"1\" class=\"dataframe\">\n",
              "  <thead>\n",
              "    <tr style=\"text-align: right;\">\n",
              "      <th></th>\n",
              "      <th>ImageId</th>\n",
              "      <th>ClassName</th>\n",
              "    </tr>\n",
              "  </thead>\n",
              "  <tbody>\n",
              "    <tr>\n",
              "      <th>6028</th>\n",
              "      <td>fe8d1d164c.jpg</td>\n",
              "      <td>25</td>\n",
              "    </tr>\n",
              "    <tr>\n",
              "      <th>1290</th>\n",
              "      <td>bdf8463caa.jpg</td>\n",
              "      <td>27</td>\n",
              "    </tr>\n",
              "    <tr>\n",
              "      <th>1830</th>\n",
              "      <td>7d6da7277f.jpg</td>\n",
              "      <td>35</td>\n",
              "    </tr>\n",
              "    <tr>\n",
              "      <th>187</th>\n",
              "      <td>7751de8a89.jpg</td>\n",
              "      <td>43</td>\n",
              "    </tr>\n",
              "    <tr>\n",
              "      <th>4536</th>\n",
              "      <td>b6ce41c50b.jpg</td>\n",
              "      <td>43</td>\n",
              "    </tr>\n",
              "    <tr>\n",
              "      <th>7751</th>\n",
              "      <td>975ca601a6.jpg</td>\n",
              "      <td>46</td>\n",
              "    </tr>\n",
              "    <tr>\n",
              "      <th>531</th>\n",
              "      <td>7d6cc5dea0.jpg</td>\n",
              "      <td>33</td>\n",
              "    </tr>\n",
              "    <tr>\n",
              "      <th>6070</th>\n",
              "      <td>dd3ffa9e61.jpg</td>\n",
              "      <td>0</td>\n",
              "    </tr>\n",
              "    <tr>\n",
              "      <th>2743</th>\n",
              "      <td>ef77bc7a03.jpg</td>\n",
              "      <td>11</td>\n",
              "    </tr>\n",
              "    <tr>\n",
              "      <th>2417</th>\n",
              "      <td>c7fc60d07b.jpg</td>\n",
              "      <td>32</td>\n",
              "    </tr>\n",
              "  </tbody>\n",
              "</table>\n",
              "</div>"
            ],
            "text/plain": [
              "             ImageId  ClassName\n",
              "6028  fe8d1d164c.jpg         25\n",
              "1290  bdf8463caa.jpg         27\n",
              "1830  7d6da7277f.jpg         35\n",
              "187   7751de8a89.jpg         43\n",
              "4536  b6ce41c50b.jpg         43\n",
              "7751  975ca601a6.jpg         46\n",
              "531   7d6cc5dea0.jpg         33\n",
              "6070  dd3ffa9e61.jpg          0\n",
              "2743  ef77bc7a03.jpg         11\n",
              "2417  c7fc60d07b.jpg         32"
            ]
          },
          "metadata": {
            "tags": []
          },
          "execution_count": 5
        }
      ]
    },
    {
      "cell_type": "markdown",
      "metadata": {
        "id": "v_2NJLqcXLvL"
      },
      "source": [
        "### Confirming the updates in labels"
      ]
    },
    {
      "cell_type": "code",
      "metadata": {
        "colab": {
          "base_uri": "https://localhost:8080/"
        },
        "id": "KFoYbE_zc4K5",
        "outputId": "3b9fb909-1723-49ac-acab-58cf9c3f9408"
      },
      "source": [
        "train['ClassName'].unique()"
      ],
      "execution_count": 10,
      "outputs": [
        {
          "output_type": "execute_result",
          "data": {
            "text/plain": [
              "array([ 0,  1,  2,  3,  4,  5,  6,  7,  8,  9, 10, 11, 12, 13, 14, 15, 16,\n",
              "       17, 18, 19, 20, 21, 22, 23, 24, 25, 26, 27, 28, 29, 30, 31, 32, 33,\n",
              "       34, 35, 36, 37, 38, 39, 40, 41, 42, 43, 44, 45, 46, 47, 48, 49, 50,\n",
              "       51, 52, 53, 54, 55, 56, 57, 58, 59, 60])"
            ]
          },
          "metadata": {
            "tags": []
          },
          "execution_count": 10
        }
      ]
    },
    {
      "cell_type": "markdown",
      "metadata": {
        "id": "vFlQWlaoXP6H"
      },
      "source": [
        "### Data Augmentation\n",
        "- Random rotation by 45 degree\n",
        "- Horizontal Flipping by probability of .5 "
      ]
    },
    {
      "cell_type": "code",
      "metadata": {
        "id": "LuzM35fTbeEP"
      },
      "source": [
        "mytransforms = transforms.Compose([\n",
        "    transforms.ToPILImage(),\n",
        "    transforms.RandomRotation(45),\n",
        "    transforms.RandomHorizontalFlip(p=0.5),\n",
        "    transforms.ToTensor(),\n",
        "    transforms.Normalize( mean = np.array([0.485, 0.456, 0.406]),\n",
        "    std = np.array([0.229, 0.224, 0.225]))\n",
        "])\n",
        "train_path = '/content/train_images'\n",
        "train_data = MyDataset(data_list= train,data_dir = train_path,transform = mytransforms)\n"
      ],
      "execution_count": null,
      "outputs": []
    },
    {
      "cell_type": "markdown",
      "metadata": {
        "id": "gnT6fkiXXcoi"
      },
      "source": [
        "### Spiltting into train, valid and test data"
      ]
    },
    {
      "cell_type": "code",
      "metadata": {
        "id": "y4f_CLzVdrNY"
      },
      "source": [
        "train_dataset, test_data = random_split(train_data,[8000,1323])\n",
        "train_dataset, valid_dataset = random_split(train_dataset,[6000,2000])"
      ],
      "execution_count": 20,
      "outputs": []
    },
    {
      "cell_type": "code",
      "metadata": {
        "colab": {
          "base_uri": "https://localhost:8080/"
        },
        "id": "UdkgzJ8Bd2nb",
        "outputId": "a52fe3e1-08f2-4f1a-9268-dca02da34077"
      },
      "source": [
        "print(train_dataset.__len__(), valid_dataset.__len__(), test_data.__len__())"
      ],
      "execution_count": 21,
      "outputs": [
        {
          "output_type": "stream",
          "text": [
            "6000 2000 1323\n"
          ],
          "name": "stdout"
        }
      ]
    },
    {
      "cell_type": "markdown",
      "metadata": {
        "id": "53BmJplIXgI7"
      },
      "source": [
        "### Preparing data loader for train, valid and test data to be fed to pytorch models"
      ]
    },
    {
      "cell_type": "code",
      "metadata": {
        "id": "0r-2xW4GdTaU"
      },
      "source": [
        "\n",
        "batch = 64\n",
        "train_loader = DataLoader(train_dataset, batch_size = batch)\n",
        "valid_loader = DataLoader(valid_dataset, batch_size = batch)\n",
        "test_loader = DataLoader(test_data, batch_size = batch)"
      ],
      "execution_count": 22,
      "outputs": []
    },
    {
      "cell_type": "code",
      "metadata": {
        "colab": {
          "base_uri": "https://localhost:8080/"
        },
        "id": "kbreQRDdeNgh",
        "outputId": "6c91e5b1-0d70-4153-b6d7-0629f5888899"
      },
      "source": [
        "for x, y in train_loader:\n",
        "  print(x.shape, y.shape)\n",
        "  break\n",
        "\n",
        "for x, y in valid_loader:\n",
        "  print(x.shape, y.shape)\n",
        "  break\n",
        "\n",
        "for x,y in test_loader:\n",
        "  print(x.shape, y.shape)\n",
        "  break"
      ],
      "execution_count": 24,
      "outputs": [
        {
          "output_type": "stream",
          "text": [
            "torch.Size([64, 3, 256, 256]) torch.Size([64])\n",
            "torch.Size([64, 3, 256, 256]) torch.Size([64])\n",
            "torch.Size([64, 3, 256, 256]) torch.Size([64])\n"
          ],
          "name": "stdout"
        }
      ]
    },
    {
      "cell_type": "markdown",
      "metadata": {
        "id": "TbGbC5YFXqB_"
      },
      "source": [
        "### Setting device to GPU to speed up"
      ]
    },
    {
      "cell_type": "code",
      "metadata": {
        "colab": {
          "base_uri": "https://localhost:8080/"
        },
        "id": "WHPdeWuCex3t",
        "outputId": "1b043d3c-268c-451d-8bb2-858b0f162340"
      },
      "source": [
        "device = torch.device(\"cuda:0\" if torch.cuda.is_available() else \"cpu\")\n",
        "print(device)"
      ],
      "execution_count": 26,
      "outputs": [
        {
          "output_type": "stream",
          "text": [
            "cuda:0\n"
          ],
          "name": "stdout"
        }
      ]
    },
    {
      "cell_type": "markdown",
      "metadata": {
        "id": "bOyuk8ZNX5_T"
      },
      "source": [
        "#### Function to plot Train loss and validation loss per epoch"
      ]
    },
    {
      "cell_type": "code",
      "metadata": {
        "id": "WhnlNSALjz3H"
      },
      "source": [
        "def plot_losses(train_loss, valid_loss):\n",
        "  plt.plot(train_loss, '-bx')\n",
        "  plt.plot(valid_loss, '-rx')\n",
        "  plt.xlabel(\"Epoch\")\n",
        "  plt.ylabel(\"Loss\")\n",
        "  plt.legend(['Training', 'Validation'])\n",
        "  plt.title(\"Loss vs Epoch\")"
      ],
      "execution_count": 7,
      "outputs": []
    },
    {
      "cell_type": "markdown",
      "metadata": {
        "id": "GQ_eKXToX8DW"
      },
      "source": [
        "#### Funtion to plot accuracy per epoch during training"
      ]
    },
    {
      "cell_type": "code",
      "metadata": {
        "id": "KbRcRIu8j0n2"
      },
      "source": [
        "def plot_accuracy(accuracy, num_epoch=30):\n",
        "  #plt.plot(train_loss, '-bx')\n",
        "  plt.plot(accuracy, '-ro')\n",
        "  plt.xlabel(\"Epoch\")\n",
        "  plt.ylabel(\"Accuracy\")\n",
        "  #plt.legend(['Training', 'Validation'])\n",
        "  plt.title(\"Accuracy vs Epoch\")"
      ],
      "execution_count": 8,
      "outputs": []
    },
    {
      "cell_type": "markdown",
      "metadata": {
        "id": "iounnTKxX2kP"
      },
      "source": [
        "#### Reseting parameters of model"
      ]
    },
    {
      "cell_type": "code",
      "metadata": {
        "id": "Ph2VzJZFj4v_"
      },
      "source": [
        "def reset_network_params(model):\n",
        "  for layer in model.children():\n",
        "    if hasattr(layer, 'reset_parameters'):\n",
        "        layer.reset_parameters()\n",
        "  return model"
      ],
      "execution_count": 9,
      "outputs": []
    },
    {
      "cell_type": "markdown",
      "metadata": {
        "id": "7l8uc9BMXxYx"
      },
      "source": [
        "#### Funtion to calculate accuracy of model"
      ]
    },
    {
      "cell_type": "code",
      "metadata": {
        "id": "AOGh2H4lkC9B"
      },
      "source": [
        "\n",
        "# Check accuracy on training & test to see how good our model\n",
        "def check_accuracy(loader, model):\n",
        "    num_correct = 0\n",
        "    num_samples = 0\n",
        "    model.eval()\n",
        "    pred = []\n",
        "    with torch.no_grad():\n",
        "        for x, y in loader:\n",
        "            x = x.to(device=device)\n",
        "            #x = x.reshape(x.shape[0],3,200,200)\n",
        "            y = y.to(device=device).long()\n",
        "            scores = model(x)\n",
        "            _, predictions = scores.max(1)\n",
        "            num_correct += (predictions == y).sum()\n",
        "            num_samples += predictions.size(0)\n",
        "\n",
        "    model.train()\n",
        "    return num_correct/num_samples\n",
        "\n"
      ],
      "execution_count": 10,
      "outputs": []
    },
    {
      "cell_type": "markdown",
      "metadata": {
        "id": "3dHPZLTXX97N"
      },
      "source": [
        "### Confusion matrix"
      ]
    },
    {
      "cell_type": "code",
      "metadata": {
        "id": "FiEsaWSekJIQ"
      },
      "source": [
        "import seaborn as sns\n",
        "# Check accuracy on training & test to see how good our model\n",
        "def get_confusion_matrix(loader, model):\n",
        "    with torch.no_grad():\n",
        "        pred = np.zeros(1)\n",
        "        actual = np.zeros(1)\n",
        "        for x, y in loader:\n",
        "            actual = np.append(actual, y.numpy())\n",
        "            x = x.to(device=device)\n",
        "            y = y.to(device=device)\n",
        "            scores = model(x)\n",
        "            _, predictions = scores.max(1)\n",
        "            #print(predictions)\n",
        "            pred = np.append(pred, predictions.cpu().data.numpy())\n",
        "            #print(i,predictions.shape)\n",
        "            #i+=1\n",
        "            #break\n",
        "    actual = actual[1:]\n",
        "    pred = pred[1:]\n",
        "    print(actual.shape, pred.shape)\n",
        "    print(type(actual), type(pred),pred)\n",
        "    actual = actual.astype(int)\n",
        "    pred = pred.astype(int)\n",
        "    #return actual, pred\n",
        "    cf_mat = confusion_matrix(list(actual), list(pred) )\n",
        "    plt.figure(figsize=(9,9))\n",
        "    sns.heatmap(cf_mat, annot=True)\n",
        "    #return cf_mat\n",
        "\n",
        "#cf_mat = get_confusion_matrix(test_loader, model_no_norm)\n",
        "\n",
        "#cf_mat = confusion_matrix(actual, pred )\n",
        "#confusion_matrix(list(actual), list(pred) )"
      ],
      "execution_count": 31,
      "outputs": []
    },
    {
      "cell_type": "markdown",
      "metadata": {
        "id": "8hfGEgSKXuiO"
      },
      "source": [
        "#### Training with validation"
      ]
    },
    {
      "cell_type": "code",
      "metadata": {
        "id": "I2j2RZvHe7Qo"
      },
      "source": [
        "def TRAIN(model, criterion, optimizer, num_epoch=5):\n",
        "  start = timeit.default_timer()\n",
        "  train_loss = []\n",
        "  valid_loss = []\n",
        "  accuracy = []\n",
        "  # Train Network\n",
        "  for epoch in range(num_epoch):\n",
        "      tr_loss = 0.0\n",
        "      for batch_idx, (data, targets) in enumerate(tqdm(train_loader)):\n",
        "          # Get data to cuda if possible\n",
        "          data = data.to(device=device)\n",
        "          targets = targets.to(device=device)\n",
        "          # Get to correct shape\n",
        "          #data = data.reshape(data.shape[0], -1)\n",
        "          # forward\n",
        "          scores = model(data) \n",
        "          loss = criterion(scores, targets)\n",
        "          #print(epoch, loss)\n",
        "          # backward\n",
        "          optimizer.zero_grad()\n",
        "          loss.backward()\n",
        "          \n",
        "          # gradient descent or adam step\n",
        "          optimizer.step()\n",
        "          tr_loss += loss.item()\n",
        "      Loss = tr_loss / len(train_loader)\n",
        "      #print(Loss)\n",
        "      train_loss.append(Loss)\n",
        "\n",
        "      #---------  VALIDATION STEP------------------------------------\n",
        "      val_loss = 0.0\n",
        "      model.eval()     # Optional when not using Model Specific layer\n",
        "      for data, labels in valid_loader:\n",
        "          if torch.cuda.is_available():\n",
        "              data, labels = data.cuda(), labels.cuda()\n",
        "          #data = data.reshape(data.shape[0], -1)\n",
        "          target = model(data)\n",
        "          loss = criterion(target,labels)\n",
        "          val_loss += loss.item() #* data.size(0)\n",
        "      val_loss /= len(valid_loader) \n",
        "      valid_loss. append(val_loss)\n",
        "      #print(val_loss)\n",
        "      #--------------------------------------------------------------\n",
        "      #------------- Accuracy at this epoch -------------------------\n",
        "      acc = check_accuracy(test_loader, model)*100\n",
        "      accuracy.append(acc) \n",
        "      #-------------------------------------------------------------- \n",
        "      print(\"\\nEpoch : \",epoch,\"  Train Loss : \",Loss,\"  Validation Loss : \",val_loss, \"  Accuracy :\",acc,\"\\n\")\n",
        "  stop = timeit.default_timer()\n",
        "  print('Time: ', stop - start)  \n",
        "  return train_loss, valid_loss, accuracy\n"
      ],
      "execution_count": 33,
      "outputs": []
    },
    {
      "cell_type": "markdown",
      "metadata": {
        "id": "WguudUwwYBlf"
      },
      "source": [
        "### CNN model with 2 layers (Convolution + pooling) followed by2 dense layers"
      ]
    },
    {
      "cell_type": "code",
      "metadata": {
        "id": "u5fDS_8djt5B"
      },
      "source": [
        "class CNN2(nn.Module):\n",
        "    def __init__(self):\n",
        "        super().__init__()\n",
        "        \n",
        "        self.network = nn.Sequential(\n",
        "            nn.Conv2d(3, 8, kernel_size=3, padding=1),\n",
        "            nn.ReLU(),\n",
        "            #nn.BatchNorm2d(8),\n",
        "            nn.MaxPool2d(2, 2), # output: 8 x 16 x 16\n",
        "\n",
        "            nn.Conv2d(8, 16, kernel_size=3, stride=1, padding=1),\n",
        "            nn.ReLU(),\n",
        "            #nn.BatchNorm2d(24),\n",
        "            nn.MaxPool2d(2, 2), # output: 24 x 8 x 8\n",
        "\n",
        "            nn.Flatten(), \n",
        "            nn.Linear(16 * 64 * 64, 100),\n",
        "            nn.ReLU(),\n",
        "            nn.Linear(100, 61),\n",
        "            nn.Softmax(dim=1)\n",
        "            )\n",
        "        \n",
        "    def forward(self, x):\n",
        "        return self.network(x)"
      ],
      "execution_count": 35,
      "outputs": []
    },
    {
      "cell_type": "code",
      "metadata": {
        "id": "4vLD-EnGkZer",
        "colab": {
          "base_uri": "https://localhost:8080/"
        },
        "outputId": "29989fe5-241d-43c7-cf6d-b2f5d9240b37"
      },
      "source": [
        "# Model # 2 layers\n",
        "model1 = CNN2() \n",
        "#print(model)\n",
        "model1.to(device)\n",
        "reset_network_params(model1)\n",
        "# Loss and optimizer\n",
        "criterion1 = nn.CrossEntropyLoss()\n",
        "optimizer1 = optim.SGD(model1.parameters(), lr=0.045, momentum=0.4)\n",
        "train_loss, valid_loss, accuracy = TRAIN(model1, criterion1, optimizer1, num_epoch=10)\n",
        "\n"
      ],
      "execution_count": 38,
      "outputs": [
        {
          "output_type": "stream",
          "text": [
            "100%|██████████| 94/94 [00:54<00:00,  1.74it/s]\n",
            "  0%|          | 0/94 [00:00<?, ?it/s]"
          ],
          "name": "stderr"
        },
        {
          "output_type": "stream",
          "text": [
            "\n",
            "Epoch :  0   Train Loss :  4.06456269862804   Validation Loss :  4.047178082168102   Accuracy : tensor(9.5994, device='cuda:0') \n",
            "\n"
          ],
          "name": "stdout"
        },
        {
          "output_type": "stream",
          "text": [
            "100%|██████████| 94/94 [00:53<00:00,  1.75it/s]\n",
            "  0%|          | 0/94 [00:00<?, ?it/s]"
          ],
          "name": "stderr"
        },
        {
          "output_type": "stream",
          "text": [
            "\n",
            "Epoch :  1   Train Loss :  4.047454050246706   Validation Loss :  4.04690508544445   Accuracy : tensor(9.5994, device='cuda:0') \n",
            "\n"
          ],
          "name": "stdout"
        },
        {
          "output_type": "stream",
          "text": [
            "100%|██████████| 94/94 [00:53<00:00,  1.77it/s]\n",
            "  0%|          | 0/94 [00:00<?, ?it/s]"
          ],
          "name": "stderr"
        },
        {
          "output_type": "stream",
          "text": [
            "\n",
            "Epoch :  2   Train Loss :  4.0474586867271585   Validation Loss :  4.046946883201599   Accuracy : tensor(9.5994, device='cuda:0') \n",
            "\n"
          ],
          "name": "stdout"
        },
        {
          "output_type": "stream",
          "text": [
            "100%|██████████| 94/94 [00:53<00:00,  1.77it/s]\n",
            "  0%|          | 0/94 [00:00<?, ?it/s]"
          ],
          "name": "stderr"
        },
        {
          "output_type": "stream",
          "text": [
            "\n",
            "Epoch :  3   Train Loss :  4.0473595451801385   Validation Loss :  4.046937063336372   Accuracy : tensor(9.5994, device='cuda:0') \n",
            "\n"
          ],
          "name": "stdout"
        },
        {
          "output_type": "stream",
          "text": [
            "100%|██████████| 94/94 [00:52<00:00,  1.78it/s]\n",
            "  0%|          | 0/94 [00:00<?, ?it/s]"
          ],
          "name": "stderr"
        },
        {
          "output_type": "stream",
          "text": [
            "\n",
            "Epoch :  4   Train Loss :  4.047360430372522   Validation Loss :  4.046877451241016   Accuracy : tensor(9.5994, device='cuda:0') \n",
            "\n"
          ],
          "name": "stdout"
        },
        {
          "output_type": "stream",
          "text": [
            "100%|██████████| 94/94 [00:53<00:00,  1.77it/s]\n",
            "  0%|          | 0/94 [00:00<?, ?it/s]"
          ],
          "name": "stderr"
        },
        {
          "output_type": "stream",
          "text": [
            "\n",
            "Epoch :  5   Train Loss :  4.047357599785987   Validation Loss :  4.046858265995979   Accuracy : tensor(9.5994, device='cuda:0') \n",
            "\n"
          ],
          "name": "stdout"
        },
        {
          "output_type": "stream",
          "text": [
            "100%|██████████| 94/94 [00:53<00:00,  1.77it/s]\n",
            "  0%|          | 0/94 [00:00<?, ?it/s]"
          ],
          "name": "stderr"
        },
        {
          "output_type": "stream",
          "text": [
            "\n",
            "Epoch :  6   Train Loss :  4.0473630986315134   Validation Loss :  4.0468636229634285   Accuracy : tensor(9.5994, device='cuda:0') \n",
            "\n"
          ],
          "name": "stdout"
        },
        {
          "output_type": "stream",
          "text": [
            "100%|██████████| 94/94 [00:52<00:00,  1.79it/s]\n",
            "  0%|          | 0/94 [00:00<?, ?it/s]"
          ],
          "name": "stderr"
        },
        {
          "output_type": "stream",
          "text": [
            "\n",
            "Epoch :  7   Train Loss :  4.047353825670608   Validation Loss :  4.0468627363443375   Accuracy : tensor(9.5994, device='cuda:0') \n",
            "\n"
          ],
          "name": "stdout"
        },
        {
          "output_type": "stream",
          "text": [
            "100%|██████████| 94/94 [00:52<00:00,  1.79it/s]\n",
            "  0%|          | 0/94 [00:00<?, ?it/s]"
          ],
          "name": "stderr"
        },
        {
          "output_type": "stream",
          "text": [
            "\n",
            "Epoch :  8   Train Loss :  4.04735447498078   Validation Loss :  4.046858958899975   Accuracy : tensor(9.5994, device='cuda:0') \n",
            "\n"
          ],
          "name": "stdout"
        },
        {
          "output_type": "stream",
          "text": [
            "100%|██████████| 94/94 [00:52<00:00,  1.80it/s]\n"
          ],
          "name": "stderr"
        },
        {
          "output_type": "stream",
          "text": [
            "\n",
            "Epoch :  9   Train Loss :  4.047352237904326   Validation Loss :  4.046856209635735   Accuracy : tensor(9.5994, device='cuda:0') \n",
            "\n",
            "Time:  790.4764308429999\n"
          ],
          "name": "stdout"
        }
      ]
    },
    {
      "cell_type": "code",
      "metadata": {
        "colab": {
          "base_uri": "https://localhost:8080/"
        },
        "id": "p3Gfz54kp8-v",
        "outputId": "bdb02973-418d-4d62-c070-7dab3b2b78b3"
      },
      "source": [
        "print(f\"Accuracy on training set: {check_accuracy(train_loader, model1)*100:.2f}\")\n",
        "print(f\"Accuracy on test set: {check_accuracy(test_loader, model1)*100:.2f}\")\n"
      ],
      "execution_count": 40,
      "outputs": [
        {
          "output_type": "stream",
          "text": [
            "Accuracy on training set: 9.13\n",
            "Accuracy on test set: 9.60\n"
          ],
          "name": "stdout"
        }
      ]
    },
    {
      "cell_type": "code",
      "metadata": {
        "colab": {
          "base_uri": "https://localhost:8080/",
          "height": 295
        },
        "id": "MkedGv-8vcfW",
        "outputId": "bd40d340-a56c-4e14-b33d-cc8018fe1bf7"
      },
      "source": [
        "plot_accuracy(accuracy, num_epoch=5)"
      ],
      "execution_count": 41,
      "outputs": [
        {
          "output_type": "display_data",
          "data": {
            "image/png": "[encoded data removed]",
            "text/plain": [
              "<Figure size 432x288 with 1 Axes>"
            ]
          },
          "metadata": {
            "tags": [],
            "needs_background": "light"
          }
        }
      ]
    },
    {
      "cell_type": "code",
      "metadata": {
        "colab": {
          "base_uri": "https://localhost:8080/",
          "height": 295
        },
        "id": "0Im_W-nDvc13",
        "outputId": "c76c011d-4fd1-451f-e2c4-9747ba06fc8e"
      },
      "source": [
        "plot_losses(train_loss, valid_loss) "
      ],
      "execution_count": 42,
      "outputs": [
        {
          "output_type": "display_data",
          "data": {
            "image/png": "[encoded data removed]",
            "text/plain": [
              "<Figure size 432x288 with 1 Axes>"
            ]
          },
          "metadata": {
            "tags": [],
            "needs_background": "light"
          }
        }
      ]
    },
    {
      "cell_type": "markdown",
      "metadata": {
        "id": "QmXXKs_IYMAc"
      },
      "source": [
        "### CNN model with 3 layers (1 layer = Convolution + Convolution + pooling) followed by 2 dense layers\n",
        "- Pooling used = average pooling\n",
        "- Dropout of 0.2 before last dense layer\n",
        "- Leaky relu used as activation\n"
      ]
    },
    {
      "cell_type": "code",
      "metadata": {
        "id": "EPIGNcJEG1Ti"
      },
      "source": [
        "class CNN_3(nn.Module):\n",
        "    def __init__(self):\n",
        "        super().__init__()\n",
        "        \n",
        "        self.network = nn.Sequential(\n",
        "            nn.Conv2d(3, 8, kernel_size=3, padding=1),\n",
        "            nn.LeakyReLU(),\n",
        "            nn.Conv2d(8, 16, kernel_size=3, padding=1),\n",
        "            nn.LeakyReLU(),\n",
        "            #nn.BatchNorm2d(8),\n",
        "            nn.AvgPool2d(2, 2), # output: 8 x 16 x 16\n",
        "\n",
        "            nn.Conv2d(16, 24, kernel_size=3, stride=1, padding=1),\n",
        "            nn.LeakyReLU(),\n",
        "            nn.Conv2d(24, 48, kernel_size=3, stride=1, padding=1),\n",
        "            nn.LeakyReLU(), \n",
        "            #nn.BatchNorm2d(24),\n",
        "            nn.AvgPool2d(2, 2), # output: 24 x 8 x 8\n",
        "\n",
        "            nn.Conv2d(48, 64, kernel_size=3, stride=1, padding=1),\n",
        "            nn.LeakyReLU(), \n",
        "            nn.Conv2d(64, 96, kernel_size=3, stride=1, padding=1),\n",
        "            nn.LeakyReLU(),  \n",
        "            #nn.BatchNorm2d(24),\n",
        "            nn.AvgPool2d(2, 2), # output: 24 x 8 x 8\n",
        "\n",
        "            nn.Flatten(), \n",
        "            nn.Linear(96 * 32 * 32, 1000),\n",
        "            nn.LeakyReLU(),\n",
        "            nn.Dropout(p=0.2),\n",
        "            nn.Linear(1000, 61),\n",
        "            nn.Softmax(dim=1)\n",
        "            )\n",
        "        \n",
        "    def forward(self, x):\n",
        "        return self.network(x)"
      ],
      "execution_count": 46,
      "outputs": []
    },
    {
      "cell_type": "code",
      "metadata": {
        "colab": {
          "base_uri": "https://localhost:8080/"
        },
        "id": "mbW5sdnfIJ6n",
        "outputId": "abe46dab-12e9-4aa8-d0f0-aa15ff12a795"
      },
      "source": [
        "# Model # 2 layers\n",
        "model3 = CNN_3() \n",
        "#print(model)\n",
        "model3.to(device)\n",
        "reset_network_params(model3)\n",
        "# Loss and optimizer\n",
        "criterion3 = nn.CrossEntropyLoss()\n",
        "optimizer3 = optim.Adam(model3.parameters(), lr=0.001 ) \n",
        "train_loss, valid_loss, accuracy = TRAIN(model3, criterion3, optimizer3, num_epoch=10)\n",
        "\n"
      ],
      "execution_count": 48,
      "outputs": [
        {
          "output_type": "stream",
          "text": [
            "100%|██████████| 94/94 [01:10<00:00,  1.33it/s]\n",
            "  0%|          | 0/94 [00:00<?, ?it/s]"
          ],
          "name": "stderr"
        },
        {
          "output_type": "stream",
          "text": [
            "\n",
            "Epoch :  0   Train Loss :  4.099797279276746   Validation Loss :  4.10593980550766   Accuracy : tensor(4.3084, device='cuda:0') \n",
            "\n"
          ],
          "name": "stdout"
        },
        {
          "output_type": "stream",
          "text": [
            "100%|██████████| 94/94 [01:10<00:00,  1.34it/s]\n",
            "  0%|          | 0/94 [00:00<?, ?it/s]"
          ],
          "name": "stderr"
        },
        {
          "output_type": "stream",
          "text": [
            "\n",
            "Epoch :  1   Train Loss :  4.098982714592142   Validation Loss :  4.10593980550766   Accuracy : tensor(4.3084, device='cuda:0') \n",
            "\n"
          ],
          "name": "stdout"
        },
        {
          "output_type": "stream",
          "text": [
            "100%|██████████| 94/94 [01:10<00:00,  1.34it/s]\n",
            "  0%|          | 0/94 [00:00<?, ?it/s]"
          ],
          "name": "stderr"
        },
        {
          "output_type": "stream",
          "text": [
            "\n",
            "Epoch :  2   Train Loss :  4.098982714592142   Validation Loss :  4.10593980550766   Accuracy : tensor(4.3084, device='cuda:0') \n",
            "\n"
          ],
          "name": "stdout"
        },
        {
          "output_type": "stream",
          "text": [
            "100%|██████████| 94/94 [01:10<00:00,  1.34it/s]\n",
            "  0%|          | 0/94 [00:00<?, ?it/s]"
          ],
          "name": "stderr"
        },
        {
          "output_type": "stream",
          "text": [
            "\n",
            "Epoch :  3   Train Loss :  4.098982714592142   Validation Loss :  4.10593980550766   Accuracy : tensor(4.3084, device='cuda:0') \n",
            "\n"
          ],
          "name": "stdout"
        },
        {
          "output_type": "stream",
          "text": [
            "100%|██████████| 94/94 [01:09<00:00,  1.35it/s]\n",
            "  0%|          | 0/94 [00:00<?, ?it/s]"
          ],
          "name": "stderr"
        },
        {
          "output_type": "stream",
          "text": [
            "\n",
            "Epoch :  4   Train Loss :  4.098982714592142   Validation Loss :  4.10593980550766   Accuracy : tensor(4.3084, device='cuda:0') \n",
            "\n"
          ],
          "name": "stdout"
        },
        {
          "output_type": "stream",
          "text": [
            "100%|██████████| 94/94 [01:09<00:00,  1.35it/s]\n",
            "  0%|          | 0/94 [00:00<?, ?it/s]"
          ],
          "name": "stderr"
        },
        {
          "output_type": "stream",
          "text": [
            "\n",
            "Epoch :  5   Train Loss :  4.098982714592142   Validation Loss :  4.10593980550766   Accuracy : tensor(4.3084, device='cuda:0') \n",
            "\n"
          ],
          "name": "stdout"
        },
        {
          "output_type": "stream",
          "text": [
            "100%|██████████| 94/94 [01:09<00:00,  1.35it/s]\n",
            "  0%|          | 0/94 [00:00<?, ?it/s]"
          ],
          "name": "stderr"
        },
        {
          "output_type": "stream",
          "text": [
            "\n",
            "Epoch :  6   Train Loss :  4.098982714592142   Validation Loss :  4.10593980550766   Accuracy : tensor(4.3084, device='cuda:0') \n",
            "\n"
          ],
          "name": "stdout"
        },
        {
          "output_type": "stream",
          "text": [
            "100%|██████████| 94/94 [01:09<00:00,  1.35it/s]\n",
            "  0%|          | 0/94 [00:00<?, ?it/s]"
          ],
          "name": "stderr"
        },
        {
          "output_type": "stream",
          "text": [
            "\n",
            "Epoch :  7   Train Loss :  4.098982714592142   Validation Loss :  4.10593980550766   Accuracy : tensor(4.3084, device='cuda:0') \n",
            "\n"
          ],
          "name": "stdout"
        },
        {
          "output_type": "stream",
          "text": [
            "100%|██████████| 94/94 [01:09<00:00,  1.36it/s]\n",
            "  0%|          | 0/94 [00:00<?, ?it/s]"
          ],
          "name": "stderr"
        },
        {
          "output_type": "stream",
          "text": [
            "\n",
            "Epoch :  8   Train Loss :  4.098982714592142   Validation Loss :  4.10593980550766   Accuracy : tensor(4.3084, device='cuda:0') \n",
            "\n"
          ],
          "name": "stdout"
        },
        {
          "output_type": "stream",
          "text": [
            "100%|██████████| 94/94 [01:08<00:00,  1.37it/s]\n"
          ],
          "name": "stderr"
        },
        {
          "output_type": "stream",
          "text": [
            "\n",
            "Epoch :  9   Train Loss :  4.098982714592142   Validation Loss :  4.10593980550766   Accuracy : tensor(4.3084, device='cuda:0') \n",
            "\n",
            "Time:  974.4492549639999\n"
          ],
          "name": "stdout"
        }
      ]
    },
    {
      "cell_type": "code",
      "metadata": {
        "colab": {
          "base_uri": "https://localhost:8080/"
        },
        "id": "rQ7rv-8GG98P",
        "outputId": "1b0862be-83f7-465f-e8b7-08aae26fa18e"
      },
      "source": [
        "print(f\"Accuracy on training set: {check_accuracy(train_loader, model3)*100:.2f}\")\n",
        "print(f\"Accuracy on test set: {check_accuracy(test_loader, model3)*100:.2f}\")\n"
      ],
      "execution_count": 52,
      "outputs": [
        {
          "output_type": "stream",
          "text": [
            "Accuracy on training set: 3.95\n",
            "Accuracy on test set: 4.31\n"
          ],
          "name": "stdout"
        }
      ]
    },
    {
      "cell_type": "code",
      "metadata": {
        "colab": {
          "base_uri": "https://localhost:8080/",
          "height": 295
        },
        "id": "vj79PRSsHDnK",
        "outputId": "4f5d1ca2-fce3-487d-a42f-c18f20bb3981"
      },
      "source": [
        "plot_accuracy(accuracy, num_epoch=10)"
      ],
      "execution_count": 53,
      "outputs": [
        {
          "output_type": "display_data",
          "data": {
            "image/png": "[encoded data removed]",
            "text/plain": [
              "<Figure size 432x288 with 1 Axes>"
            ]
          },
          "metadata": {
            "tags": [],
            "needs_background": "light"
          }
        }
      ]
    },
    {
      "cell_type": "code",
      "metadata": {
        "colab": {
          "base_uri": "https://localhost:8080/",
          "height": 295
        },
        "id": "xKxxt0ciHFli",
        "outputId": "e5fdca6b-8381-4a15-a31c-d69683a25b1f"
      },
      "source": [
        "plot_losses(train_loss, valid_loss) "
      ],
      "execution_count": 54,
      "outputs": [
        {
          "output_type": "display_data",
          "data": {
            "image/png": "[encoded data removed]",
            "text/plain": [
              "<Figure size 432x288 with 1 Axes>"
            ]
          },
          "metadata": {
            "tags": [],
            "needs_background": "light"
          }
        }
      ]
    },
    {
      "cell_type": "markdown",
      "metadata": {
        "id": "e07LBqg9jsRP"
      },
      "source": [
        "# Transfer learning using Resnet50 model"
      ]
    },
    {
      "cell_type": "code",
      "metadata": {
        "colab": {
          "base_uri": "https://localhost:8080/"
        },
        "id": "_8dQ7BsIK0pV",
        "outputId": "35917bde-0aa2-45fd-f33f-f32560d63368"
      },
      "source": [
        "batch = 64\n",
        "train_dataset, valid_dataset = random_split(train_data,[8000,1323])\n",
        "train_loader = DataLoader(train_dataset, batch_size = batch)\n",
        "valid_loader = DataLoader(valid_dataset, batch_size = batch)\n",
        "test_path = '/content/test_images'\n",
        "test = pd.read_csv('test.csv')\n",
        "test_data = MyDataset(data_list= test,data_dir = test_path,transform = mytransforms, train=False)\n",
        "test_loader = DataLoader(test_data, batch_size=batch)"
      ],
      "execution_count": 56,
      "outputs": [
        {
          "output_type": "stream",
          "text": [
            "\n"
          ],
          "name": "stdout"
        }
      ]
    },
    {
      "cell_type": "code",
      "metadata": {
        "id": "MuZSF8fwfNr0"
      },
      "source": [
        "resnet1 = torchvision.models.resnet50(pretrained=True)\n",
        "resnet1.fc = nn.Linear(resnet1.fc.in_features, 61)\n",
        "resnet1 = resnet1.to(device)\n",
        "criterion = nn.CrossEntropyLoss()\n",
        "optimizer = optim.Adam(resnet1.parameters(), lr=0.001)\n"
      ],
      "execution_count": 62,
      "outputs": []
    },
    {
      "cell_type": "code",
      "metadata": {
        "colab": {
          "base_uri": "https://localhost:8080/"
        },
        "id": "K8CK3jqIOEqy",
        "outputId": "f53442f5-1ec8-4a23-aa07-57520c9cafa3"
      },
      "source": [
        "train_loss, valid_loss, accuracy = TRAIN(resnet1, criterion, optimizer, num_epoch=15)\n"
      ],
      "execution_count": 11,
      "outputs": [
        {
          "output_type": "stream",
          "text": [
            "Epoch :  0   Train Loss :  3.0323   Validation Loss :  2.7762   Accuracy : tensor(27.47, device='cuda:0')\n",
            "\n",
            "Epoch :  1   Train Loss :  2.4754   Validation Loss :  2.6676   Accuracy : tensor(30.63, device='cuda:0')\n",
            "\n",
            "Epoch :  2   Train Loss :  2.2194   Validation Loss :  2.2815   Accuracy : tensor(39.48, device='cuda:0')\n",
            "\n",
            "Epoch :  3   Train Loss :  2.0601   Validation Loss :  2.1954   Accuracy : tensor(39.65, device='cuda:0')\n",
            " \n",
            "Epoch :  4   Train Loss :  1.9273   Validation Loss :  2.2665   Accuracy : tensor(40.05, device='cuda:0')\n",
            "\n",
            "Epoch :  5   Train Loss :  1.8183   Validation Loss :  2.0163   Accuracy : tensor(43.78, device='cuda:0')\n",
            "\n",
            "Epoch :  6   Train Loss :  1.7302   Validation Loss :  1.9663   Accuracy : tensor(46.89, device='cuda:0')\n",
            "\n",
            "Epoch :  7   Train Loss :  1.4390   Validation Loss :  1.5005   Accuracy : tensor(55.63, device='cuda:0')\n",
            "\n",
            "Epoch :  8   Train Loss :  1.3215   Validation Loss :  1.4829   Accuracy : tensor(56.22, device='cuda:0')\n",
            "\n",
            "Epoch :  9   Train Loss :  1.2715   Validation Loss :  1.4586   Accuracy : tensor(56.76, device='cuda:0')\n",
            "\n",
            "Epoch :  10   Train Loss :  1.2394   Validation Loss :  1.4683   Accuracy : tensor(56.60, device='cuda:0')\n",
            "\n",
            "Epoch :  11   Train Loss :  1.1995   Validation Loss :  1.4481   Accuracy : tensor(56.65, device='cuda:0')\n",
            "\n",
            "Epoch :  12   Train Loss :  1.1655   Validation Loss :  1.4556   Accuracy : tensor(57.56, device='cuda:0')\n",
            "\n",
            "Epoch :  13   Train Loss :  1.1278   Validation Loss :  1.4733   Accuracy : tensor(57.30, device='cuda:0')\n",
            "\n",
            "Epoch :  14   Train Loss :  1.0624   Validation Loss :  1.4293   Accuracy : tensor(58.53, device='cuda:0')\n",
            "\n",
            "Time:  4138.5623550096\n"
          ],
          "name": "stdout"
        }
      ]
    },
    {
      "cell_type": "code",
      "metadata": {
        "id": "nL88ZIe-fnJb",
        "colab": {
          "base_uri": "https://localhost:8080/"
        },
        "outputId": "b1baac4c-a4d4-40f7-f7ab-83df408ac557"
      },
      "source": [
        "print(f\"Accuracy on training set: {check_accuracy(train_loader, resnet1)*100:.2f}\")\n",
        "print(f\"Accuracy on valid set: {check_accuracy(valid_loader, resnet1)*100:.2f}\")\n"
      ],
      "execution_count": 12,
      "outputs": [
        {
          "output_type": "stream",
          "text": [
            "Accuracy on training set:  68.15\n",
            "Accuracy on valid set:  58.58\n"
          ],
          "name": "stdout"
        }
      ]
    },
    {
      "cell_type": "markdown",
      "metadata": {
        "id": "XdP6vhPHZDGU"
      },
      "source": [
        "### Getting output labels"
      ]
    },
    {
      "cell_type": "code",
      "metadata": {
        "id": "I6jytteQSs_Q"
      },
      "source": [
        "y_pred = np.zeros(1)\n",
        "for data in test_loader:\n",
        "  x = data.to(device=device)\n",
        "  outputs = resnet1(x)\n",
        "  _, preds = torch.max(outputs, 1)\n",
        "  y = preds.cpu().numpy()\n",
        "  y_preds = np.append(y) \n",
        "y_preds = y_preds[1:].astype(int)"
      ],
      "execution_count": null,
      "outputs": []
    },
    {
      "cell_type": "markdown",
      "metadata": {
        "id": "-9erUSqsZAEv"
      },
      "source": [
        "### Writing output csv to drive"
      ]
    },
    {
      "cell_type": "code",
      "metadata": {
        "id": "o3IAHKKbSat2"
      },
      "source": [
        "LABELS = {0:'water', 1:'pizza-margherita-baked', 2:'broccoli', 3:'salad-leaf-salad-green', 4:'egg', 5:'butter',\n",
        "        6:'bread-white', 7:'apple', 8:'dark-chocolate', 9:'white-coffee-with-caffeine', 10:'sweet-pepper',\n",
        "        11:'mixed-salad-chopped-without-sauce', 12:'tomato-sauce', 13:'cucumber', 14:'cheese', 15:'pasta-spaghetti',\n",
        "        16:'rice', 17:'zucchini', 18:'salmon', 19:'mixed-vegetables', 20:'espresso-with-caffeine', 21:'banana',\n",
        "        22:'strawberries', 23:'mayonnaise', 24:'almonds', 25:'bread-wholemeal', 26:'wine-white', 27:'hard-cheese',\n",
        "        28:'ham-raw', 29:'tomato', 30:'french-beans', 31:'mandarine', 32:'wine-red', 33:'potatoes-steamed', 34:'croissant',\n",
        "        35:'carrot', 36:'salami', 37:'boisson-au-glucose-50g', 38:'biscuits', 39:'corn', 40:'leaf-spinach', 41:'tea-green',\n",
        "        42:'chips-french-fries', 43:'parmesan', 44:'beer', 45:'bread-french-white-flour', 46:'coffee-with-caffeine',\n",
        "        47:'chicken', 48:'soft-cheese', 49:'tea', 50:'avocado', 51:'bread-sourdough', 52:'gruyere', 53:'sauce-savoury',\n",
        "        54:'honey', 55:'mixed-nuts', 56:'jam', 57:'bread-whole-wheat', 58:'water-mineral', 59:'onion', 60:'pickle'}\n",
        "\n",
        "with open('/content/drive/MyDrive/CV/resnet_submission.csv', mode='w') as my_file:\n",
        "      my_writer = csv.writer(my_file, delimiter=',', quotechar='\"', quoting=csv.QUOTE_MINIMAL)\n",
        "      my_writer.writerow(['ClassName'])\n",
        "      i=0\n",
        "      while (i<484):\n",
        "          my_writer.writerow([ LABELS[ y_preds[i] ] ])\n",
        "          i += 1 "
      ],
      "execution_count": null,
      "outputs": []
    },
    {
      "cell_type": "markdown",
      "metadata": {
        "id": "H--VdRCgZFrY"
      },
      "source": [
        "### Freeing up gpu memory when it gives \"Not enough memory in gpu\" error"
      ]
    },
    {
      "cell_type": "code",
      "metadata": {
        "id": "2Cx8SUijli3g"
      },
      "source": [
        "import torch, gc\n",
        "\n",
        "gc.collect()\n",
        "torch.cuda.empty_cache()"
      ],
      "execution_count": 58,
      "outputs": []
    }
  ]
}