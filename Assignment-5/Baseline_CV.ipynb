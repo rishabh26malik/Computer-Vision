{
  "nbformat": 4,
  "nbformat_minor": 0,
  "metadata": {
    "colab": {
      "name": "Baseline CV",
      "provenance": [],
      "collapsed_sections": [],
      "toc_visible": true
    },
    "kernelspec": {
      "display_name": "Python 3",
      "language": "python",
      "name": "python3"
    },
    "language_info": {
      "codemirror_mode": {
        "name": "ipython",
        "version": 3
      },
      "file_extension": ".py",
      "mimetype": "text/x-python",
      "name": "python",
      "nbconvert_exporter": "python",
      "pygments_lexer": "ipython3",
      "version": "3.7.9-final"
    }
  },
  "cells": [
    {
      "cell_type": "markdown",
      "metadata": {
        "id": "OAqF8DSw_5TL"
      },
      "source": [
        "# Getting Started Code for [Chunin Exams Food Track- CV'2021](https://www.aicrowd.com/challenges/chunin-exams-food-track-cv-2021) on AIcrowd\n",
        "#### Author : Pulkit Gera"
      ]
    },
    {
      "cell_type": "markdown",
      "metadata": {
        "id": "0H3J2MVK_5TW"
      },
      "source": [
        "## Download Necessary Packages 📚"
      ]
    },
    {
      "cell_type": "code",
      "metadata": {
        "colab": {
          "base_uri": "https://localhost:8080/"
        },
        "id": "psxJC7EC_5TX",
        "outputId": "edd96c01-145c-4a28-f78f-b8ef46116403"
      },
      "source": [
        "!pip install aicrowd-cli"
      ],
      "execution_count": 8,
      "outputs": [
        {
          "output_type": "stream",
          "text": [
            "Requirement already satisfied: aicrowd-cli in /usr/local/lib/python3.7/dist-packages (0.1.2)\n",
            "Requirement already satisfied: click<8,>=7.1.2 in /usr/local/lib/python3.7/dist-packages (from aicrowd-cli) (7.1.2)\n",
            "Requirement already satisfied: requests<3,>=2.25.1 in /usr/local/lib/python3.7/dist-packages (from aicrowd-cli) (2.25.1)\n",
            "Requirement already satisfied: rich<11,>=10.0.0 in /usr/local/lib/python3.7/dist-packages (from aicrowd-cli) (10.1.0)\n",
            "Requirement already satisfied: tqdm<5,>=4.56.0 in /usr/local/lib/python3.7/dist-packages (from aicrowd-cli) (4.59.0)\n",
            "Requirement already satisfied: gitpython<4,>=3.1.12 in /usr/local/lib/python3.7/dist-packages (from aicrowd-cli) (3.1.14)\n",
            "Requirement already satisfied: requests-toolbelt<1,>=0.9.1 in /usr/local/lib/python3.7/dist-packages (from aicrowd-cli) (0.9.1)\n",
            "Requirement already satisfied: toml<1,>=0.10.2 in /usr/local/lib/python3.7/dist-packages (from aicrowd-cli) (0.10.2)\n",
            "Requirement already satisfied: urllib3<1.27,>=1.21.1 in /usr/local/lib/python3.7/dist-packages (from requests<3,>=2.25.1->aicrowd-cli) (1.24.3)\n",
            "Requirement already satisfied: certifi>=2017.4.17 in /usr/local/lib/python3.7/dist-packages (from requests<3,>=2.25.1->aicrowd-cli) (2020.12.5)\n",
            "Requirement already satisfied: idna<3,>=2.5 in /usr/local/lib/python3.7/dist-packages (from requests<3,>=2.25.1->aicrowd-cli) (2.10)\n",
            "Requirement already satisfied: chardet<5,>=3.0.2 in /usr/local/lib/python3.7/dist-packages (from requests<3,>=2.25.1->aicrowd-cli) (3.0.4)\n",
            "Requirement already satisfied: colorama<0.5.0,>=0.4.0 in /usr/local/lib/python3.7/dist-packages (from rich<11,>=10.0.0->aicrowd-cli) (0.4.4)\n",
            "Requirement already satisfied: typing-extensions<4.0.0,>=3.7.4 in /usr/local/lib/python3.7/dist-packages (from rich<11,>=10.0.0->aicrowd-cli) (3.7.4.3)\n",
            "Requirement already satisfied: pygments<3.0.0,>=2.6.0 in /usr/local/lib/python3.7/dist-packages (from rich<11,>=10.0.0->aicrowd-cli) (2.6.1)\n",
            "Requirement already satisfied: commonmark<0.10.0,>=0.9.0 in /usr/local/lib/python3.7/dist-packages (from rich<11,>=10.0.0->aicrowd-cli) (0.9.1)\n",
            "Requirement already satisfied: gitdb<5,>=4.0.1 in /usr/local/lib/python3.7/dist-packages (from gitpython<4,>=3.1.12->aicrowd-cli) (4.0.7)\n",
            "Requirement already satisfied: smmap<5,>=3.0.1 in /usr/local/lib/python3.7/dist-packages (from gitdb<5,>=4.0.1->gitpython<4,>=3.1.12->aicrowd-cli) (4.0.0)\n"
          ],
          "name": "stdout"
        }
      ]
    },
    {
      "cell_type": "markdown",
      "metadata": {
        "id": "D5L6NxEe_5TZ"
      },
      "source": [
        "## Download Data\n",
        "The first step is to download out train test data. We will be training a model on the train data and make predictions on test data. We submit our predictions.\n"
      ]
    },
    {
      "cell_type": "code",
      "metadata": {
        "colab": {
          "base_uri": "https://localhost:8080/"
        },
        "id": "lyF9gbdx_5TZ",
        "outputId": "da27ed41-fe2a-4904-a5f0-6e8f09527a33"
      },
      "source": [
        "API_KEY = \"fd1aed7204268f0bae2780fb808a4063\" #Please enter your API Key from [https://www.aicrowd.com/participants/me]\n",
        "!aicrowd login --api-key $API_KEY"
      ],
      "execution_count": 9,
      "outputs": [
        {
          "output_type": "stream",
          "text": [
            "\u001b[32mAPI Key valid\u001b[0m\n",
            "\u001b[32mSaved API Key successfully!\u001b[0m\n"
          ],
          "name": "stdout"
        }
      ]
    },
    {
      "cell_type": "code",
      "metadata": {
        "colab": {
          "base_uri": "https://localhost:8080/"
        },
        "id": "hx8pHTHZ_5Ta",
        "outputId": "ce730715-1fe5-4e54-ee15-f60ef21bf75b"
      },
      "source": [
        "!aicrowd dataset download --challenge chunin-exams-food-track-cv-2021"
      ],
      "execution_count": 10,
      "outputs": [
        {
          "output_type": "stream",
          "text": [
            "train_images.zip: 100% 754M/754M [00:40<00:00, 18.7MB/s]\n",
            "test_images.zip: 100% 33.9M/33.9M [00:01<00:00, 25.8MB/s]\n",
            "train.csv: 100% 253k/253k [00:00<00:00, 1.02MB/s]\n",
            "test.csv: 100% 7.27k/7.27k [00:00<00:00, 801kB/s]\n"
          ],
          "name": "stdout"
        }
      ]
    },
    {
      "cell_type": "code",
      "metadata": {
        "id": "8NwyXyca_5Ta"
      },
      "source": [
        "!rm -rf data\n",
        "!mkdir data\n"
      ],
      "execution_count": 5,
      "outputs": []
    },
    {
      "cell_type": "markdown",
      "metadata": {
        "id": "5IX79Ffa_5Te"
      },
      "source": [
        "## Making Direct Submission thought Aicrowd CLI"
      ]
    },
    {
      "cell_type": "code",
      "metadata": {
        "id": "-j1W9w4t_5Te",
        "colab": {
          "base_uri": "https://localhost:8080/"
        },
        "outputId": "c0a9a039-1f79-49f6-9e87-7d7bc8ddc2e2"
      },
      "source": [
        "!aicrowd submission create -c chunin-exams-food-track-cv-2021 -f submission.csv"
      ],
      "execution_count": null,
      "outputs": [
        {
          "output_type": "stream",
          "text": [
            "\u001b[2K\u001b[1;34msubmission.csv\u001b[0m \u001b[90m━━━━━━━━━━━━━━━━━━━━━━\u001b[0m \u001b[35m100.0%\u001b[0m • \u001b[32m13.1/11.5 KB\u001b[0m • \u001b[31m1.4 MB/s\u001b[0m • \u001b[36m0:00:00\u001b[0m\n",
            "\u001b[?25h                                                 ╭─────────────────────────╮                                                  \n",
            "                                                 │ \u001b[1mSuccessfully submitted!\u001b[0m │                                                  \n",
            "                                                 ╰─────────────────────────╯                                                  \n",
            "\u001b[3m                                                       Important links                                                        \u001b[0m\n",
            "┌──────────────────┬─────────────────────────────────────────────────────────────────────────────────────────────────────────┐\n",
            "│  This submission │ https://www.aicrowd.com/challenges/ai-blitz-7/problems/stage-prediction/submissions/125933              │\n",
            "│                  │                                                                                                         │\n",
            "│  All submissions │ https://www.aicrowd.com/challenges/ai-blitz-7/problems/stage-prediction/submissions?my_submissions=true │\n",
            "│                  │                                                                                                         │\n",
            "│      Leaderboard │ https://www.aicrowd.com/challenges/ai-blitz-7/problems/stage-prediction/leaderboards                    │\n",
            "│                  │                                                                                                         │\n",
            "│ Discussion forum │ https://discourse.aicrowd.com/c/ai-blitz-7                                                              │\n",
            "│                  │                                                                                                         │\n",
            "│   Challenge page │ https://www.aicrowd.com/challenges/ai-blitz-7/problems/stage-prediction                                 │\n",
            "└──────────────────┴─────────────────────────────────────────────────────────────────────────────────────────────────────────┘\n",
            "{'submission_id': 125933, 'created_at': '2021-03-12T14:32:25.301Z'}\n"
          ],
          "name": "stdout"
        }
      ]
    }
  ]
}