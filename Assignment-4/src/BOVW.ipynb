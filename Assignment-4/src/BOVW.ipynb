{
  "nbformat": 4,
  "nbformat_minor": 0,
  "metadata": {
    "colab": {
      "name": "BOVW_FINAL-2.ipynb",
      "provenance": [],
      "collapsed_sections": []
    },
    "kernelspec": {
      "display_name": "Python 3",
      "name": "python3"
    },
    "language_info": {
      "name": "python"
    }
  },
  "cells": [
    {
      "cell_type": "code",
      "metadata": {
        "colab": {
          "base_uri": "https://localhost:8080/"
        },
        "id": "Ov4s5hH0YncO",
        "outputId": "849c1b28-e118-46fb-fff4-f1b791c88c49"
      },
      "source": [
        "from google.colab import drive\n",
        "drive.mount('/content/drive')"
      ],
      "execution_count": 36,
      "outputs": [
        {
          "output_type": "stream",
          "text": [
            "Drive already mounted at /content/drive; to attempt to forcibly remount, call drive.mount(\"/content/drive\", force_remount=True).\n"
          ],
          "name": "stdout"
        }
      ]
    },
    {
      "cell_type": "markdown",
      "metadata": {
        "id": "usPA-ztNZEXz"
      },
      "source": [
        "#### Importing required libreries"
      ]
    },
    {
      "cell_type": "code",
      "metadata": {
        "id": "_500dtoBZKXp"
      },
      "source": [
        "import numpy as np\n",
        "import cv2\n",
        "from matplotlib import pyplot as plt\n",
        "from google.colab.patches import cv2_imshow\n",
        "import random\n",
        "from matplotlib import image \n",
        "import matplotlib.cm as cm\n",
        "import os\n",
        "from sklearn.cluster import KMeans\n",
        "from sklearn.model_selection import train_test_split\n",
        "from sklearn import svm\n",
        "from sklearn.multiclass import OneVsRestClassifier\n",
        "from sklearn.svm import SVC\n",
        "from sklearn.metrics import accuracy_score\n",
        "from sklearn.metrics import confusion_matrix"
      ],
      "execution_count": 37,
      "outputs": []
    },
    {
      "cell_type": "markdown",
      "metadata": {
        "id": "uQpkSh9QZOcb"
      },
      "source": [
        "#### We install a different version of OpenCV. This is because SIFT feature descriptor is not available is latest version due to patent issues."
      ]
    },
    {
      "cell_type": "code",
      "metadata": {
        "colab": {
          "base_uri": "https://localhost:8080/"
        },
        "id": "LuN4_mQkZblb",
        "outputId": "7666b8b1-38d9-4b6d-a93e-7ba6378413e6"
      },
      "source": [
        "!pip install opencv-python==3.4.2.17 opencv-contrib-python==3.4.2.17\n"
      ],
      "execution_count": 38,
      "outputs": [
        {
          "output_type": "stream",
          "text": [
            "Requirement already satisfied: opencv-python==3.4.2.17 in /usr/local/lib/python3.7/dist-packages (3.4.2.17)\n",
            "Requirement already satisfied: opencv-contrib-python==3.4.2.17 in /usr/local/lib/python3.7/dist-packages (3.4.2.17)\n",
            "Requirement already satisfied: numpy>=1.14.5 in /usr/local/lib/python3.7/dist-packages (from opencv-python==3.4.2.17) (1.19.5)\n"
          ],
          "name": "stdout"
        }
      ]
    },
    {
      "cell_type": "markdown",
      "metadata": {
        "id": "REwN1Q65ZkUY"
      },
      "source": [
        "#### Below are the classes we have for classification. We have assigned a unique interger to each class as a part of preprocessing"
      ]
    },
    {
      "cell_type": "code",
      "metadata": {
        "id": "UxmFJvGMZkfE"
      },
      "source": [
        "classes = ['aquarium', 'desert', 'park', 'windmill', 'waterfall', 'highway', 'kitchen', 'laundromat']\n",
        "LABELS = {'aquarium'  :1,\n",
        "          'desert'    :2,\n",
        "          'park'      :3,\n",
        "          'windmill'  :4,\n",
        "          'waterfall' :5,\n",
        "          'highway'   :6,\n",
        "          'kitchen'   :7,\n",
        "          'laundromat':8}"
      ],
      "execution_count": 39,
      "outputs": []
    },
    {
      "cell_type": "markdown",
      "metadata": {
        "id": "xNYVFYy8aR_2"
      },
      "source": [
        "#### These are the target class labels for training and testing. We have 80 samples of each class in training data and 20 samples of each class in test data"
      ]
    },
    {
      "cell_type": "code",
      "metadata": {
        "id": "I7ju57Z8aTed"
      },
      "source": [
        "y_train = np.array([[1]*80+[2]*80+[3]*80+[4]*80+[5]*80+[6]*80+[7]*80+[8]*80]).flatten()\n",
        "y_test  = np.array([[1]*20+[2]*20+[3]*20+[4]*20+[5]*20+[6]*20+[7]*20+[8]*20]).flatten()"
      ],
      "execution_count": 40,
      "outputs": []
    },
    {
      "cell_type": "markdown",
      "metadata": {
        "id": "XYl-aup-amAR"
      },
      "source": [
        "#### Function of compute SIFT features for a given input image\n",
        "#### BONUS - DENSE SIFT ALSO DONE\n",
        "Window size for Dense SIFT is 20x20 and a stride of 5 is taken."
      ]
    },
    {
      "cell_type": "code",
      "metadata": {
        "id": "5nqYsFNCamIp"
      },
      "source": [
        "def get_features(image):\n",
        "  sift = cv2.xfeatures2d.SIFT_create()\n",
        "  kp, des = sift.detectAndCompute(image, None)\n",
        "  return des\n",
        "\n",
        "def get_dense_sift_features(image):\n",
        "  n ,m, _ = image.shape\n",
        "  window_size = 20\n",
        "  stride = 5\n",
        "  features = np.zeros((1,128))\n",
        "  #print(features.shape)\n",
        "  sift = cv2.xfeatures2d.SIFT_create()\n",
        "  for x in range(0, n-window_size, stride):\n",
        "    for y in range(0, m-window_size, stride):\n",
        "      kp, des = sift.detectAndCompute(image[ x : x + window_size, y : y + window_size ], None)\n",
        "      if des is None:\n",
        "        continue\n",
        "      features = np.append(features, des, axis=0)\n",
        "  return features[1:,:]\n"
      ],
      "execution_count": 42,
      "outputs": []
    },
    {
      "cell_type": "markdown",
      "metadata": {
        "id": "sxsLhcc3azdK"
      },
      "source": [
        "### Preprocessing\n",
        "#### In below function, we prepare the training and testing data one by one. Following the steps involved : \n",
        "- INITIALIZE DATASET AS EMPTY\n",
        "  - We read each image of each class sequentially\n",
        "  - Resize image to 150 x 150\n",
        "  - Calculate SIFT descriptors of reduced image\n",
        "  - Append calculated descriptors of the image to dataset. \n"
      ]
    },
    {
      "cell_type": "code",
      "metadata": {
        "id": "7AK-Ko9_aznO"
      },
      "source": [
        "def load_data_and_preprocess(PATH, feature_type=\"sift\"):\n",
        "  data = np.zeros(128)\n",
        "  labels = np.zeros(1)\n",
        "  features = []\n",
        "  for class_ in classes:\n",
        "    img_path = PATH + class_ \n",
        "    print(class_, LABELS[class_])\n",
        "    for filename in os.listdir(img_path):\n",
        "      img = cv2.imread(os.path.join(img_path,filename))\n",
        "      img = cv2.resize(img, (150, 150))\n",
        "      if (feature_type==\"dense-sift\"):\n",
        "        desc = get_dense_sift_features(img)\n",
        "      else:\n",
        "        desc = get_features(img)\n",
        "      label = np.zeros(desc.shape[0]) + LABELS[class_]\n",
        "      labels = np.append(labels, label)\n",
        "      features.append(desc)\n",
        "      data = np.vstack((data,desc)) \n",
        "  data = data[1:]\n",
        "  labels = labels[1:]\n",
        "  return data, features, labels"
      ],
      "execution_count": 47,
      "outputs": []
    },
    {
      "cell_type": "markdown",
      "metadata": {
        "id": "NwlbVBYicWmp"
      },
      "source": [
        "#### Preparing training dataset"
      ]
    },
    {
      "cell_type": "code",
      "metadata": {
        "colab": {
          "base_uri": "https://localhost:8080/"
        },
        "id": "0Pj8KMsrcZEa",
        "outputId": "a5931b20-51e4-4a4d-ec42-1d2a4438db05"
      },
      "source": [
        "train_path = '/content/drive/My Drive/COMPUTER VISION/SUN_data/SUN_data/train/'\n",
        "data, features, labels = load_data_and_preprocess(train_path, feature_type=\"dense-sift\")"
      ],
      "execution_count": 55,
      "outputs": [
        {
          "output_type": "stream",
          "text": [
            "aquarium 1\n",
            "desert 2\n",
            "park 3\n",
            "windmill 4\n",
            "waterfall 5\n",
            "highway 6\n",
            "kitchen 7\n",
            "laundromat 8\n"
          ],
          "name": "stdout"
        }
      ]
    },
    {
      "cell_type": "markdown",
      "metadata": {
        "id": "dkDSKqM2cZm5"
      },
      "source": [
        "#### Preparing testing dataset"
      ]
    },
    {
      "cell_type": "code",
      "metadata": {
        "colab": {
          "base_uri": "https://localhost:8080/"
        },
        "id": "s2MszDywcbb8",
        "outputId": "b5701da3-4187-4adb-8fc3-106ee61a11f4"
      },
      "source": [
        "test_path = '/content/drive/My Drive/COMPUTER VISION/SUN_data/SUN_data/test/'\n",
        "data_test, features_test, labels_test = load_data_and_preprocess(test_path, feature_type=\"dense-sift\")"
      ],
      "execution_count": null,
      "outputs": [
        {
          "output_type": "stream",
          "text": [
            "aquarium 1\n",
            "desert 2\n",
            "park 3\n",
            "windmill 4\n",
            "waterfall 5\n",
            "highway 6\n",
            "kitchen 7\n",
            "laundromat 8\n"
          ],
          "name": "stdout"
        }
      ]
    },
    {
      "cell_type": "markdown",
      "metadata": {
        "id": "_N9zh7Mvcyjo"
      },
      "source": [
        "### Kmeans CLustering\n",
        "#### Here, we take the input dataset (set of all SIFT feature descriptors of all images) and perform kmeans clustering on them. This is done to get descriptor of same things together in a same cluster as a part of bag of visual words technique."
      ]
    },
    {
      "cell_type": "code",
      "metadata": {
        "id": "lKYrDldtczDR"
      },
      "source": [
        "def clustering(Xtrain, num_clusters):\n",
        "    kmeans = KMeans(n_clusters = num_clusters)\n",
        "    kmeans.fit(Xtrain)\n",
        "    return kmeans"
      ],
      "execution_count": 49,
      "outputs": []
    },
    {
      "cell_type": "markdown",
      "metadata": {
        "id": "nLK4GL9hda_D"
      },
      "source": [
        "### BOVW for Retrieval : Inverted File Indexing\n",
        "#### In this function, we create the index table. Following are the steps involved : \n",
        "- INITIALIZE : Zero matrix of size ( No. of cluster X No. of Images)\n",
        " \n",
        "We'll call this matrix as ***INDEX TABLE*** from now onwards\n",
        " - Go through each feature descriptor in dataset\n",
        "  - Predict its cluster accoring to the clustering done in previous step using kmeans\n",
        "  - Increament the corressponding entry in index table."
      ]
    },
    {
      "cell_type": "code",
      "metadata": {
        "id": "PTGBzfaydbH4"
      },
      "source": [
        "def inverted_file_indexing( features, Kmeans, num_clusters):\n",
        "  num_images = len(features)\n",
        "  index_table = np.zeros((num_clusters, num_images))\n",
        "  print(num_images,index_table.shape)\n",
        "  for i in range(num_images):\n",
        "    for feature in features[i]:\n",
        "      Feature = feature.reshape(1, 128)\n",
        "      cluster_idx = Kmeans.predict(Feature)[0]\n",
        "      index_table[cluster_idx][i] += 1\n",
        "  return index_table"
      ],
      "execution_count": 50,
      "outputs": []
    },
    {
      "cell_type": "markdown",
      "metadata": {
        "id": "a6px_lK5iSit"
      },
      "source": [
        "#### Histogram PLotting\n",
        "##### Below function is used to plot the histogram of cluster obtained after applying clustering on the feature descriptors of all images"
      ]
    },
    {
      "cell_type": "code",
      "metadata": {
        "id": "9z-4bjI1ihjt"
      },
      "source": [
        "def display_orig_BOVW_histogram(index_table  ,num_clusters ):\n",
        "  x_scalar = np.arange(num_clusters)\n",
        "  y_scalar = np.sum(index_table, axis=1)\n",
        "  plt.figure(figsize=(15,8))\n",
        "  plt.bar(x_scalar, y_scalar)\n",
        "  plt.xlabel(\"Visual Word Index\")\n",
        "  plt.ylabel(\"Frequency\")\n",
        "  plt.title(\"Complete Vocabulary Generated\")\n",
        "  #plt.xticks(x_scalar + 0.4, x_scalar)\n",
        "  plt.show()"
      ],
      "execution_count": 51,
      "outputs": []
    },
    {
      "cell_type": "markdown",
      "metadata": {
        "id": "WJHnP7vUjeQJ"
      },
      "source": [
        "### Normalization\n",
        "#### In this section, we have normalized the Index Table. This is done by subtracting the mean and dividing by standard deviation\n",
        "\n",
        "Normalized data = ( Data - Mean ) / Standard_deviation\n",
        "\n",
        "After normalization, we have performed classification using the normalized index table."
      ]
    },
    {
      "cell_type": "code",
      "metadata": {
        "id": "SiDeSAi9jgpC"
      },
      "source": [
        "def normalize(index_table, index_table_test):\n",
        "  normalized_index_table = np.copy(index_table)\n",
        "  Mean = np.mean(normalized_index_table, axis=0)\n",
        "  std_dev = np.std(normalized_index_table, axis=0)\n",
        "  normalized_index_table = (normalized_index_table - Mean)/std_dev\n",
        "\n",
        "  normalized_index_table_test = np.copy(index_table_test)\n",
        "  Mean = np.mean(normalized_index_table_test, axis=0)\n",
        "  std_dev = np.std(normalized_index_table_test, axis=0)\n",
        "  normalized_index_table_test = (normalized_index_table_test - Mean)/std_dev\n",
        "  return normalized_index_table, normalized_index_table_test\n",
        "\n",
        "def fit_normalized(index_table, index_table_test):\n",
        "  normalized_index_table, normalized_index_table_test = normalize()\n",
        "  norm_clf = applySVM(normalized_index_table.T, y_train)\n",
        "  y_pred = norm_clf.predict(normalized_index_table_test.T)\n",
        "  print(accuracy_score(y_test, y_pred))\n",
        "  print(confusion_matrix(y_test, y_pred))\n"
      ],
      "execution_count": null,
      "outputs": []
    },
    {
      "cell_type": "markdown",
      "metadata": {
        "id": "5SGGzOyAl12J"
      },
      "source": [
        "### Evaluation\n",
        "#### - Here we have done the following : \n",
        "- Predictions for the testing\n",
        "- Calculation of accuracy\n",
        "- Computing Confusion matrix"
      ]
    },
    {
      "cell_type": "code",
      "metadata": {
        "id": "habUGGgRl3q3"
      },
      "source": [
        "def prediction(classifier, index_table_test, y_test):\n",
        "    y_pred = classifier.predict(index_table_test.T)\n",
        "    print(\"y_pred\",y_pred.shape)\n",
        "    acc = accuracy(y_pred, y_test)\n",
        "    conf_mat = print_confusion_matrix(y_pred, y_test)\n",
        "    return acc, conf_mat\n",
        "\n",
        "def accuracy(y_pred, y_test):\n",
        "    #print(accuracy_score(y_test, y_pred))\n",
        "    return accuracy_score(y_test, y_pred)\n",
        "\n",
        "def print_confusion_matrix(y_pred, y_test):\n",
        "    #print(confusion_matrix(y_test, y_pred))\n",
        "    return confusion_matrix(y_test, y_pred)"
      ],
      "execution_count": null,
      "outputs": []
    },
    {
      "cell_type": "markdown",
      "metadata": {
        "id": "ZpPObnPYmulT"
      },
      "source": [
        "### Classification\n",
        "#### Support vector machine is used for classifying. We have used applyied various hyparameters like kernel, C, gamma etc. \n",
        "Since we have 8 classes in this problem so we are using 1 vs all classification."
      ]
    },
    {
      "cell_type": "code",
      "metadata": {
        "id": "9J7kWYnam_29"
      },
      "source": [
        "def applySVM(trainX, trainY, c=10, Kernel=\"linear\", Gamma=5):\n",
        "    #clf = OneVsRestClassifier(SVC( C = c, gamma = Gamma, kernel = Kernel ) )\n",
        "    clf = OneVsRestClassifier(SVC() )\n",
        "    print(\"....\",trainX.shape, trainY.shape)\n",
        "    clf.fit(trainX, trainY)\n",
        "    return clf"
      ],
      "execution_count": null,
      "outputs": []
    },
    {
      "cell_type": "code",
      "metadata": {
        "id": "sxApuIiuo3Rn"
      },
      "source": [
        "Xtrain, Xtest = data, data_test"
      ],
      "execution_count": null,
      "outputs": []
    },
    {
      "cell_type": "code",
      "metadata": {
        "colab": {
          "base_uri": "https://localhost:8080/"
        },
        "id": "ZiH9wIY_o6gQ",
        "outputId": "118e5bf6-4985-4b97-fd60-f3fe59c91532"
      },
      "source": [
        "print(data.shape)\n",
        "print(labels.shape)\n",
        "print(data_test.shape)\n",
        "print(labels_test.shape)\n",
        "print(len(features), len(features_test))\n",
        "print(Xtrain.shape, y_train.shape, Xtest.shape, y_test.shape)"
      ],
      "execution_count": null,
      "outputs": [
        {
          "output_type": "stream",
          "text": [
            "(96122, 128)\n",
            "(96122,)\n",
            "(24674, 128)\n",
            "(24674,)\n",
            "640 160\n",
            "(96122, 128) (640,) (24674, 128) (160,)\n"
          ],
          "name": "stdout"
        }
      ]
    },
    {
      "cell_type": "markdown",
      "metadata": {
        "id": "RLjPoXd8oYih"
      },
      "source": [
        "#### Here we have done the following :\n",
        "- Clustering on ***training*** dataset\n",
        "- Creating Inverted Index table for ***training*** dataset\n",
        "- Clustering on ***testing*** dataset\n",
        "- Creating Inverted Index table for ***testing*** dataset\n",
        "- Training 1 vs all SVM classifier on training inverted index table"
      ]
    },
    {
      "cell_type": "code",
      "metadata": {
        "colab": {
          "base_uri": "https://localhost:8080/"
        },
        "id": "JdpAB92QoYt0",
        "outputId": "bc4a4ae0-b67a-42b5-a53a-42f3275063a0"
      },
      "source": [
        "num_clusters = 100\n",
        "kmeans = clustering(Xtrain, num_clusters)  # Xtrain, num_clusters\n",
        "index_table = inverted_file_indexing(features, kmeans, num_clusters) #features, Kmeans, num_clusters\n",
        "print(index_table.shape, index_table)\n",
        "kmeans_test = clustering(Xtest, num_clusters) # Xtrain, num_clusters\n",
        "index_table_test = inverted_file_indexing(features_test, kmeans_test, num_clusters) #features, Kmeans, num_clusters\n",
        "print(index_table_test.shape, index_table_test)\n",
        "clf = applySVM(index_table.T, y_train, c=10, Kernel=\"rbf\", Gamma=5) # trainX, trainY, c=10, Kernel=\"linear\", Gamma=5\n",
        "acc, conf_mat = prediction(clf, index_table_test, y_test)    "
      ],
      "execution_count": null,
      "outputs": [
        {
          "output_type": "stream",
          "text": [
            "640 (100, 640)\n",
            "(100, 640) [[2. 1. 0. ... 0. 5. 4.]\n",
            " [2. 3. 0. ... 0. 0. 3.]\n",
            " [0. 0. 0. ... 1. 4. 1.]\n",
            " ...\n",
            " [3. 2. 0. ... 1. 3. 0.]\n",
            " [5. 0. 0. ... 1. 2. 5.]\n",
            " [5. 1. 0. ... 1. 2. 2.]]\n",
            "160 (100, 160)\n",
            "(100, 160) [[0. 0. 0. ... 0. 1. 1.]\n",
            " [0. 1. 0. ... 3. 1. 0.]\n",
            " [1. 4. 1. ... 6. 1. 0.]\n",
            " ...\n",
            " [1. 6. 2. ... 1. 2. 0.]\n",
            " [1. 1. 0. ... 2. 0. 1.]\n",
            " [1. 0. 0. ... 0. 1. 0.]]\n",
            ".... (640, 100) (640,)\n",
            "y_pred (160,)\n"
          ],
          "name": "stdout"
        }
      ]
    },
    {
      "cell_type": "code",
      "metadata": {
        "colab": {
          "base_uri": "https://localhost:8080/",
          "height": 513
        },
        "id": "xOsUsf7g1La8",
        "outputId": "b13b28b5-78ab-486b-c10b-c819b303c9b9"
      },
      "source": [
        "display_orig_BOVW_histogram(index_table  ,num_clusters )"
      ],
      "execution_count": 57,
      "outputs": [
        {
          "output_type": "display_data",
          "data": {
            "image/png": "[encoded data removed]",
            "text/plain": [
              "<Figure size 1080x576 with 1 Axes>"
            ]
          },
          "metadata": {
            "tags": [],
            "needs_background": "light"
          }
        }
      ]
    },
    {
      "cell_type": "markdown",
      "metadata": {
        "id": "XKv6L9zUur2p"
      },
      "source": [
        "#### Accuracy and confusion matrix for 1-vs-All SVM with RBF kernel "
      ]
    },
    {
      "cell_type": "code",
      "metadata": {
        "colab": {
          "base_uri": "https://localhost:8080/"
        },
        "id": "tGU_YZ6yWRFg",
        "outputId": "f3f99a62-24be-4210-dfea-946e35cea983"
      },
      "source": [
        "print(\"Accuracy =\",acc)\n",
        "print(\"Confusion matrix\\n\",conf_mat)"
      ],
      "execution_count": null,
      "outputs": [
        {
          "output_type": "stream",
          "text": [
            "Accuracy = 0.24375\n",
            "Confusion matrix\n",
            " [[ 5  4  4  1  1  0  1  4]\n",
            " [ 2 15  0  0  1  0  0  2]\n",
            " [ 4  0  5  0  3  2  3  3]\n",
            " [ 4  8  4  0  0  0  2  2]\n",
            " [ 1  0  4  1  5  0  2  7]\n",
            " [ 3  8  1  1  0  1  4  2]\n",
            " [ 3  2  1  0  3  1  4  6]\n",
            " [ 1  2  2  0  0  2  9  4]]\n"
          ],
          "name": "stdout"
        }
      ]
    },
    {
      "cell_type": "markdown",
      "metadata": {
        "id": "d5_IrOvZu6wH"
      },
      "source": [
        "#### Accuracy and confusion matrix for 1-vs-All SVM with Linear kernel "
      ]
    },
    {
      "cell_type": "code",
      "metadata": {
        "colab": {
          "base_uri": "https://localhost:8080/"
        },
        "id": "DNFh7uUEtVGm",
        "outputId": "9386eddd-4889-46ae-8d8f-b87641e35d4c"
      },
      "source": [
        "clf = applySVM(index_table.T, y_train, c=10, Kernel=\"linear\", Gamma=5) # trainX, trainY, c=10, Kernel=\"linear\", Gamma=5\n",
        "print(\"after clf training\")\n",
        "prediction(clf, index_table_test, y_test)"
      ],
      "execution_count": null,
      "outputs": [
        {
          "output_type": "stream",
          "text": [
            ".... (640, 100) (640,)\n",
            "after clf training\n",
            "y_pred (160,)\n",
            "0.13125\n",
            "[[ 1  1  2  7  3  2  3  1]\n",
            " [ 1  8  0  1  0  2  4  4]\n",
            " [ 1  1  3  3  9  1  1  1]\n",
            " [ 1  8  1  4  1  2  2  1]\n",
            " [ 2  0  1  6  2  2  5  2]\n",
            " [ 0  3  1  2  2  0 12  0]\n",
            " [ 3  0  1  8  0  2  2  4]\n",
            " [ 3  7  2  3  0  2  2  1]]\n"
          ],
          "name": "stdout"
        }
      ]
    },
    {
      "cell_type": "markdown",
      "metadata": {
        "id": "ChxCNSsaWrwk"
      },
      "source": [
        "### BONUS :  TF-IDF : Term Frequency (TF) - Inverse Document Frequency (IDF)\n",
        "Weighting on the histograms to enhance the importance of discriminative features and downweight the uninformative features that occur in a lot of images.\n",
        "\n",
        "n = Number Of Images\n",
        "\n",
        "m = No. Of Images Containing The visual word\n",
        "\n",
        "$IDF = Log(\\frac{n}{m})$\n",
        "\n",
        "***Words which are present in less number of images are more discriminative and have high IDF value which is used to weight them***\n",
        "\n",
        "x = No. of repetitions of visual word in an image\n",
        "\n",
        "y = Total No. of visual words in an image\n",
        "\n",
        "$TF = \\frac{x}{y}$\n"
      ]
    },
    {
      "cell_type": "code",
      "metadata": {
        "id": "SqEdB_-fWuGt"
      },
      "source": [
        "def TF_IDF(index_table, index_table_test, num_clusters):\n",
        "  tf_train = np.copy(index_table)\n",
        "  tf_test = np.copy(index_table_test)\n",
        "  idf_train = np.zeros(num_clusters) + index_table.shape[1]\n",
        "  idf_test = np.zeros(num_clusters) + index_table_test.shape[1]\n",
        "  # IDF calculation\n",
        "  for i in range(num_clusters):\n",
        "    idf_train[i] = np.log( idf_train[i] / np.sum(index_table[i,:]) )\n",
        "    idf_test[i]  = np.log( idf_test[i] / np.sum(index_table_test[i,:]) )\n",
        "  \n",
        "  tf_train_sum = np.sum(tf_train, axis=0)\n",
        "  tf_test_sum = np.sum(tf_test, axis=0)\n",
        "\n",
        "  for i in range(100):\n",
        "    tf_train[i,:] =  idf_train[i] * (tf_train[i,:]/tf_train_sum[i])\n",
        "    tf_test[i,:] =  idf_test[i] * (tf_test[i,:]/tf_test_sum[i])\n",
        "\n",
        "  return tf_train, tf_test"
      ],
      "execution_count": null,
      "outputs": []
    },
    {
      "cell_type": "code",
      "metadata": {
        "id": "ryDlDsl-ZYz0"
      },
      "source": [
        "tf_train, tf_test = TF_IDF(index_table, index_table_test, num_clusters)"
      ],
      "execution_count": null,
      "outputs": []
    },
    {
      "cell_type": "code",
      "metadata": {
        "colab": {
          "base_uri": "https://localhost:8080/"
        },
        "id": "rtMw0wPaf1D3",
        "outputId": "395a089e-4026-490e-bac3-fc8775a64972"
      },
      "source": [
        "clf = applySVM(tf_train.T, y_train, c=10, Kernel=\"linear\", Gamma=5) # trainX, trainY, c=10, Kernel=\"linear\", Gamma=5\n",
        "print(\"after clf training\")\n",
        "acc, conf_mat = prediction(clf, tf_test, y_test)"
      ],
      "execution_count": null,
      "outputs": [
        {
          "output_type": "stream",
          "text": [
            ".... (640, 100) (640,)\n",
            "after clf training\n",
            "y_pred (160,)\n"
          ],
          "name": "stdout"
        }
      ]
    },
    {
      "cell_type": "markdown",
      "metadata": {
        "id": "ByWf9PTSyHW5"
      },
      "source": [
        "### Result after applying SVM on TF-IDF re-weighed data"
      ]
    },
    {
      "cell_type": "code",
      "metadata": {
        "colab": {
          "base_uri": "https://localhost:8080/"
        },
        "id": "7V6Yns3AgIH0",
        "outputId": "8c8d9bac-9e06-4a14-c268-83a038148ffb"
      },
      "source": [
        "print(\"Accuracy =\",acc)\n",
        "print(\"Confusion matrix\\n\",conf_mat)"
      ],
      "execution_count": null,
      "outputs": [
        {
          "output_type": "stream",
          "text": [
            "Accuracy = 0.14375\n",
            "Confusion matrix\n",
            " [[ 2 17  1  0  0  0  0  0]\n",
            " [ 0 20  0  0  0  0  0  0]\n",
            " [ 0 18  1  1  0  0  0  0]\n",
            " [ 4 16  0  0  0  0  0  0]\n",
            " [ 0 19  0  1  0  0  0  0]\n",
            " [ 1 17  2  0  0  0  0  0]\n",
            " [ 1 16  0  2  0  0  0  1]\n",
            " [ 2 16  0  2  0  0  0  0]]\n"
          ],
          "name": "stdout"
        }
      ]
    },
    {
      "cell_type": "markdown",
      "metadata": {
        "id": "YHImU45wgNbO"
      },
      "source": [
        "### BONUS - BOVW with spatial pyramid matching\n",
        "\n",
        "Number of pyramid levels = 3 \n",
        "\n",
        "Weights for Layer 1, 2 and 3 are 1/4, 1/4 and 1/2.\n",
        "\n",
        "Layer 1 : Entire image is taken as itself.\n",
        "\n",
        "Layer 2 : 4 equal partitions are taken of the image.\n",
        "\n",
        "Layer 3 : 16 equal partitions are taken of the image.\n",
        "\n",
        "Hence, the number of histograms that we get are 1+4+16 = 21\n",
        "\n",
        "Now, for n clusters, the total number of features that we get after concating all histograms is 21*n"
      ]
    },
    {
      "cell_type": "code",
      "metadata": {
        "id": "VSXCMRYvgPMC"
      },
      "source": [
        "def make_histogram(features, kmeans, num_clusters):\n",
        "  hist = np.zeros(num_clusters)\n",
        "  if features is None:\n",
        "    return hist\n",
        "  for feature in features:\n",
        "    pred = kmeans.predict([feature])\n",
        "    hist[pred] += 1\n",
        "  return hist\n",
        "\n",
        "def get_spatial_pyramid_histogram(image, L, kmeans, num_clusters):\n",
        "  all_histograms = []\n",
        "  weights = [0.25, 0.25, 0.5]\n",
        "  for level in range(L):\n",
        "      size = 2**level\n",
        "      stride = image.shape[0]//size\n",
        "      height, width, _ = image.shape\n",
        "      for i in range(0, height, stride):\n",
        "        for j in range(0, width, stride):\n",
        "          img_portion = image[i:i+stride, j:j+stride, :]\n",
        "          desc = get_features(img_portion)\n",
        "          hist = make_histogram(desc, kmeans, num_clusters)\n",
        "          all_histograms.append( weights[level]*hist )\n",
        "\n",
        "  cumulative_hist = all_histograms[0]\n",
        "  lenn = len(all_histograms)\n",
        "  for i in range(1, lenn):\n",
        "    cumulative_hist = np.concatenate((cumulative_hist, all_histograms[i]))\n",
        "  cumulative_hist = ( cumulative_hist - np.mean(cumulative_hist) ) / np.std(cumulative_hist)\n",
        "  return cumulative_hist\n"
      ],
      "execution_count": null,
      "outputs": []
    },
    {
      "cell_type": "code",
      "metadata": {
        "id": "skvWyUhum_Ig"
      },
      "source": [
        "num_clusters = 100\n",
        "\n",
        "def load_spatial_data(PATH):\n",
        "  data = np.zeros(2100)\n",
        "  for class_ in classes:\n",
        "    img_path = PATH + class_ \n",
        "    print(class_, LABELS[class_])\n",
        "    for filename in os.listdir(img_path):\n",
        "      img = cv2.imread(os.path.join(img_path,filename))\n",
        "      img = cv2.resize(img, (160, 160))\n",
        "      desc = get_spatial_pyramid_histogram(img, 3, kmeans, num_clusters)\n",
        "      data = np.vstack((data,desc)) \n",
        "  data = data[1:]\n",
        "  return data"
      ],
      "execution_count": null,
      "outputs": []
    },
    {
      "cell_type": "code",
      "metadata": {
        "colab": {
          "base_uri": "https://localhost:8080/"
        },
        "id": "OllUZIjc2X-s",
        "outputId": "e8ca6661-0d4a-43a4-a71a-818b69218a20"
      },
      "source": [
        "Xtrain_pyd = load_spatial_data(train_path)"
      ],
      "execution_count": null,
      "outputs": [
        {
          "output_type": "stream",
          "text": [
            "aquarium 1\n",
            "desert 2\n",
            "park 3\n",
            "windmill 4\n",
            "waterfall 5\n",
            "highway 6\n",
            "kitchen 7\n",
            "laundromat 8\n"
          ],
          "name": "stdout"
        }
      ]
    },
    {
      "cell_type": "code",
      "metadata": {
        "colab": {
          "base_uri": "https://localhost:8080/"
        },
        "id": "l68D_TWL3zLo",
        "outputId": "f5698543-349e-434b-b0a1-7d996fcbff55"
      },
      "source": [
        "Xtest_pyd = load_spatial_data(test_path)"
      ],
      "execution_count": null,
      "outputs": [
        {
          "output_type": "stream",
          "text": [
            "aquarium 1\n",
            "desert 2\n",
            "park 3\n",
            "windmill 4\n",
            "waterfall 5\n",
            "highway 6\n",
            "kitchen 7\n",
            "laundromat 8\n"
          ],
          "name": "stdout"
        }
      ]
    },
    {
      "cell_type": "code",
      "metadata": {
        "colab": {
          "base_uri": "https://localhost:8080/"
        },
        "id": "v0r_Rm7E4Qvf",
        "outputId": "d5442d5b-b6d7-4aab-ce46-349dfae02f57"
      },
      "source": [
        "print(Xtrain_pyd.shape,Xtest_pyd.shape)"
      ],
      "execution_count": null,
      "outputs": [
        {
          "output_type": "stream",
          "text": [
            "(640, 2100) (160, 2100)\n"
          ],
          "name": "stdout"
        }
      ]
    },
    {
      "cell_type": "code",
      "metadata": {
        "colab": {
          "base_uri": "https://localhost:8080/"
        },
        "id": "4OKtP_Rv4jWa",
        "outputId": "20b38488-9c2a-4830-c6a2-5d72a7873e74"
      },
      "source": [
        "clf = applySVM(Xtrain_pyd, y_train, c=10, Kernel=\"linear\", Gamma=5) # trainX, trainY, c=10, Kernel=\"linear\", Gamma=5\n",
        "print(\"after clf training\")\n",
        "acc, conf_mat = prediction(clf, Xtest_pyd.T, y_test)"
      ],
      "execution_count": null,
      "outputs": [
        {
          "output_type": "stream",
          "text": [
            ".... (640, 2100) (640,)\n",
            "after clf training\n",
            "y_pred (160,)\n"
          ],
          "name": "stdout"
        }
      ]
    },
    {
      "cell_type": "code",
      "metadata": {
        "colab": {
          "base_uri": "https://localhost:8080/"
        },
        "id": "SzCSVuA24qbz",
        "outputId": "4b99aaec-39d2-4704-f68e-3221bfa42864"
      },
      "source": [
        "print(\"Accuracy =\",acc)\n",
        "print(\"Confusion matrix\\n\",conf_mat)"
      ],
      "execution_count": null,
      "outputs": [
        {
          "output_type": "stream",
          "text": [
            "Accuracy = 0.51875\n",
            "Confusion matrix\n",
            " [[13  0  3  3  1  0  0  0]\n",
            " [ 0 15  0  1  2  1  0  1]\n",
            " [ 2  0 12  0  2  2  0  2]\n",
            " [ 0  8  3  4  1  2  1  1]\n",
            " [ 1  0  5  1 13  0  0  0]\n",
            " [ 1  4  1  2  2  6  2  2]\n",
            " [ 2  0  2  0  2  0 11  3]\n",
            " [ 1  0  2  0  0  3  5  9]]\n"
          ],
          "name": "stdout"
        }
      ]
    }
  ]
}